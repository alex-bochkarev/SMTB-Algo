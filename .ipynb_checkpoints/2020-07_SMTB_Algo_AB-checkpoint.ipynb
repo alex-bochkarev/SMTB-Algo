{
 "cells": [
  {
   "cell_type": "markdown",
   "metadata": {
    "slideshow": {
     "slide_type": "slide"
    }
   },
   "source": [
    "# Technical: How to open this notebook <a class=\"tocSkip\">\n",
    "- You can always open it in `nbviewer` online, by clicking [here](https://nbviewer.jupyter.org/github/alex-bochkarev/SMTB-Algo/blob/master/2020-07_SMTB_Algo_AB.ipynb) -- read-only\n",
    "- If you have a Google account (which is free), you can\n",
    "[![Open it in Colab](https://colab.research.google.com/assets/colab-badge.svg)](https://colab.research.google.com/github/alex-bochkarev/SMTB-Algo/blob/master/2020-07_SMTB_Algo_AB.ipynb)\n",
    "\n",
    "(You'd need to copy it to your Drive to be able to experiment and save your changes)\n",
    "- If for any reason you'd prefer to run it locally, you can just clone (or just [download](https://github.com/alex-bochkarev/SMTB-Algo/archive/master.zip)) the [repo](https://github.com/alex-bochkarev/SMTB-Algo) and open the `.ipynb` file. You'd need Python 3 along with the following packages: `numpy`,`matplotlib`, `seaborn`, and `pandas` (almost surely you already have these). \n",
    "- Anyways, if you miss something and use `conda` (which you hopefully do) -- just `conda install <what-is-missing>`.\n",
    "\n",
    "**Note:** The presentation was made from this very notebook (using [RISE](https://rise.readthedocs.io/en/stable/) extension from time to time to produce [Reveal.js](https://revealjs.com/) slides)"
   ]
  },
  {
   "cell_type": "markdown",
   "metadata": {
    "slideshow": {
     "slide_type": "slide"
    }
   },
   "source": [
    "# Some key concepts about algorithms (in general) <a class=\"tocSkip\">\n",
    "<br><br><br>\n",
    "\n",
    "<div style=\"text-align: right\"> <em>Alexey Bochkarev, 2020, a [at] bochkarev (dot) io </em></div>"
   ]
  },
  {
   "cell_type": "markdown",
   "metadata": {
    "slideshow": {
     "slide_type": "slide"
    }
   },
   "source": [
    "# An outline <a class=\"tocSkip\">\n",
    "- An algorithm = a recipe\n",
    "- Several **parameters** to keep an eye on: \n",
    "    + runtime/types of runtime / $O(\\cdot)$ notation / etc.\n",
    "    + space requirements\n",
    "- \"Hard\" problems, exact algos and heuristics.\n",
    "- A note on **data structures**\n",
    "- **the main part of the session:** conclusions + further reading/learning"
   ]
  },
  {
   "cell_type": "markdown",
   "metadata": {
    "slideshow": {
     "slide_type": "slide"
    }
   },
   "source": [
    "# The main goal <a class=\"tocSkip\">\n",
    "    \n",
    "- To *mention* some key definitions and \"buzzwords\", \n",
    "- To provide a first glimpse on the structure of the material out there. **(not a substitute to a proper CS course)**\n",
    "- So you could learn more if needed, and know what to google.\n",
    "    \n",
    "**Why bother?**\n",
    "- to create / implement algorithms\n",
    "- to understand what is going on in a paper\n",
    "- to understand what is possible (or not), and what to use for your problem at hand\n",
    "    \n",
    "**Prereqs:** ability to read (pseudo-)code -- we will use Python 3 now."
   ]
  },
  {
   "cell_type": "markdown",
   "metadata": {
    "slideshow": {
     "slide_type": "slide"
    }
   },
   "source": [
    "# Algorithms"
   ]
  },
  {
   "cell_type": "markdown",
   "metadata": {
    "slideshow": {
     "slide_type": "slide"
    }
   },
   "source": [
    "## What is an algorithm?\n",
    "Well, a recipe. Not good as a strict definition, but as put by [The Economist](https://www.economist.com/the-economist-explains/2017/08/29/what-are-algorithms),\n",
    "\n",
    "*An algorithm is, essentially, a brainless way of doing clever things.*\n",
    "\n",
    "A clear, step-by-step instructions manual, how to acheive something specific. Like, \n",
    "- get to the bus stop from some specific point, \n",
    "- sort an array of $N$ numbers, or\n",
    "- assemble the original genome sequence from a smaller, potentially overlapping pieces. \n",
    "- ...and so on.\n",
    "\n",
    "(Without too vague instructions.)\n",
    "\n",
    "Not a big deal, so far..."
   ]
  },
  {
   "cell_type": "markdown",
   "metadata": {
    "slideshow": {
     "slide_type": "slide"
    }
   },
   "source": [
    "**Note:** algorithm $\\neq$ computer program. The former are abstract solution procedures, while the latter are their implementations in some specific programming language.\n",
    "\n",
    "We will talk about **algorithms** today -- but we'll consider some specific examples of programs too. I suppose, it will be a little easier this way."
   ]
  },
  {
   "cell_type": "markdown",
   "metadata": {
    "slideshow": {
     "slide_type": "subslide"
    }
   },
   "source": [
    "### Let's use sorting <a class=\"tocSkip\">\n",
    "**INPUT:**   an array of some fixed length, $N$. Say, integer numbers<br>\n",
    "**OUTPUT:**  a sorted version of the same array (each next number is larger than the previous one).\n",
    "    \n",
    "For example, [4,6,1,3,2,5,7] $\\rightarrow$ [1,2,3,4,5,6,7]. Obviously, there are many ways to approach the problem."
   ]
  },
  {
   "cell_type": "code",
   "execution_count": 1,
   "metadata": {
    "slideshow": {
     "slide_type": "fragment"
    }
   },
   "outputs": [],
   "source": [
    "def bubble_sort(input_array):\n",
    "    done = False\n",
    "    N = len(input_array)\n",
    "    out_array = input_array\n",
    "    while not done:\n",
    "        done = True\n",
    "        for i in range(N-1):\n",
    "            if out_array[i] > out_array[i+1]:\n",
    "                n_i = out_array[i]\n",
    "                n_i_plus_1 = out_array[i+1]\n",
    "                out_array[i] = n_i_plus_1\n",
    "                out_array[i+1] = n_i\n",
    "                done = False\n",
    "                \n",
    "    return out_array"
   ]
  },
  {
   "cell_type": "code",
   "execution_count": 2,
   "metadata": {
    "slideshow": {
     "slide_type": "fragment"
    }
   },
   "outputs": [
    {
     "data": {
      "text/plain": [
       "[1, 2, 3, 4, 5, 6, 7]"
      ]
     },
     "execution_count": 2,
     "metadata": {},
     "output_type": "execute_result"
    }
   ],
   "source": [
    "bubble_sort([4,6,1,3,2,5,7])"
   ]
  },
  {
   "cell_type": "code",
   "execution_count": 3,
   "metadata": {
    "slideshow": {
     "slide_type": "fragment"
    }
   },
   "outputs": [
    {
     "data": {
      "text/plain": [
       "[1, 2, 4, 6, 7]"
      ]
     },
     "execution_count": 3,
     "metadata": {},
     "output_type": "execute_result"
    }
   ],
   "source": [
    "bubble_sort([6,4,7,1,2])"
   ]
  },
  {
   "cell_type": "markdown",
   "metadata": {
    "slideshow": {
     "slide_type": "slide"
    }
   },
   "source": [
    "### Is it the only option, though? <a class=\"tocSkip\">\n",
    "(also see the mandatory [xkcd](https://xkcd.com/1185/))"
   ]
  },
  {
   "cell_type": "code",
   "execution_count": 37,
   "metadata": {
    "slideshow": {
     "slide_type": "fragment"
    }
   },
   "outputs": [],
   "source": [
    "def panic_sort(input_array):\n",
    "    np.random.seed(1234)\n",
    "    \n",
    "    output_array = input_array\n",
    "    \n",
    "    for i in range(1000):\n",
    "        output_array = np.random.permutation(output_array) ## come on, come on!..\n",
    "        \n",
    "    return output_array"
   ]
  },
  {
   "cell_type": "code",
   "execution_count": 51,
   "metadata": {},
   "outputs": [
    {
     "data": {
      "text/plain": [
       "array([ 1,  2,  3,  4,  5,  6,  7,  8,  9, 10])"
      ]
     },
     "execution_count": 51,
     "metadata": {},
     "output_type": "execute_result"
    }
   ],
   "source": [
    "A = [3,7,9,8,6,2,5,1,10,4]\n",
    "panic_sort(A)"
   ]
  },
  {
   "cell_type": "markdown",
   "metadata": {
    "slideshow": {
     "slide_type": "slide"
    }
   },
   "source": [
    "### or (this one is tricky): <a class=\"tocSkip\">"
   ]
  },
  {
   "cell_type": "code",
   "execution_count": 6,
   "metadata": {
    "slideshow": {
     "slide_type": "fragment"
    }
   },
   "outputs": [],
   "source": [
    "def real_quick_sort(input_array):\n",
    "    N = len(input_array)\n",
    "    \n",
    "    return(\n",
    "        [i+1 for i in range(N)]\n",
    "    )"
   ]
  },
  {
   "cell_type": "code",
   "execution_count": 7,
   "metadata": {
    "slideshow": {
     "slide_type": "fragment"
    }
   },
   "outputs": [
    {
     "data": {
      "text/plain": [
       "[1, 2, 3, 4, 5]"
      ]
     },
     "execution_count": 7,
     "metadata": {},
     "output_type": "execute_result"
    }
   ],
   "source": [
    "real_quick_sort([1,5,4,2,3])"
   ]
  },
  {
   "cell_type": "code",
   "execution_count": 8,
   "metadata": {
    "scrolled": true,
    "slideshow": {
     "slide_type": "fragment"
    }
   },
   "outputs": [
    {
     "data": {
      "text/plain": [
       "[1, 2, 3, 4, 5, 6, 7]"
      ]
     },
     "execution_count": 8,
     "metadata": {},
     "output_type": "execute_result"
    }
   ],
   "source": [
    "real_quick_sort([4,6,1,3,2,5,7])"
   ]
  },
  {
   "cell_type": "markdown",
   "metadata": {
    "slideshow": {
     "slide_type": "slide"
    }
   },
   "source": [
    "### Another approach: merge sort <a class=\"tocSkip\">"
   ]
  },
  {
   "cell_type": "markdown",
   "metadata": {
    "slideshow": {
     "slide_type": "fragment"
    }
   },
   "source": [
    "Imagine an array, split it into two halves.What would happen if we had some magic function that would sort each half? We would have ended up with this:\n",
    "\n",
    "![halfsorted](img/merge_sort.png)\n",
    "\n",
    "Now, we could easily merge these two into a sorted array: just use two pointers `i left` and `i right`. Scan left to right, picking the smallest one and increasing pointers as necessary."
   ]
  },
  {
   "cell_type": "markdown",
   "metadata": {
    "slideshow": {
     "slide_type": "slide"
    }
   },
   "source": [
    "Let us just fix this in the code, while we are at it:"
   ]
  },
  {
   "cell_type": "code",
   "execution_count": 9,
   "metadata": {
    "slideshow": {
     "slide_type": "fragment"
    }
   },
   "outputs": [],
   "source": [
    "# the only slightly tricky part here is\n",
    "# handling edge cases\n",
    "\n",
    "def merge(left, right):\n",
    "    result = []\n",
    "    i_left = 0; i_right = 0\n",
    "    while len(left) + len(right) > len(result):\n",
    "        if i_left == len(left):\n",
    "            if i_right < len(right):                \n",
    "                result.append(right[i_right])\n",
    "                i_right += 1\n",
    "        else:\n",
    "            if i_right == len(right):\n",
    "                result.append(left[i_left])\n",
    "                i_left += 1\n",
    "            else:\n",
    "                result.append(min(right[i_right], left[i_left]))\n",
    "                if right[i_right] < left[i_left]:\n",
    "                    i_right += 1\n",
    "                else:\n",
    "                    i_left += 1\n",
    "    return result"
   ]
  },
  {
   "cell_type": "code",
   "execution_count": 10,
   "metadata": {
    "slideshow": {
     "slide_type": "fragment"
    }
   },
   "outputs": [
    {
     "data": {
      "text/plain": [
       "[1, 2, 3, 4, 5, 6, 7]"
      ]
     },
     "execution_count": 10,
     "metadata": {},
     "output_type": "execute_result"
    }
   ],
   "source": [
    "merge([1,3,5,7],[2,4,6])"
   ]
  },
  {
   "cell_type": "markdown",
   "metadata": {
    "slideshow": {
     "slide_type": "slide"
    }
   },
   "source": [
    "OK, you might say, but we don't have any \"magic function\", do we?\n",
    "\n",
    "Let's just cheat now, and pretend we do. This is best explained by code right away, perhaps:"
   ]
  },
  {
   "cell_type": "code",
   "execution_count": 11,
   "metadata": {
    "slideshow": {
     "slide_type": "fragment"
    }
   },
   "outputs": [],
   "source": [
    "def merge_sort(input_array):\n",
    "    result = []\n",
    "\n",
    "    N = len(input_array)\n",
    "    if N == 1:\n",
    "        return input_array # nothing to sort\n",
    "    \n",
    "    m = N // 2 # find the middle\n",
    "    left = input_array[:m]\n",
    "    right = input_array[m:]\n",
    "    \n",
    "    # here is the magic\n",
    "    left = merge_sort(left)\n",
    "    right = merge_sort(right)\n",
    "    \n",
    "    return merge(left, right)"
   ]
  },
  {
   "cell_type": "code",
   "execution_count": 12,
   "metadata": {
    "slideshow": {
     "slide_type": "fragment"
    }
   },
   "outputs": [
    {
     "data": {
      "text/plain": [
       "[1, 2, 3, 4, 5, 6, 7]"
      ]
     },
     "execution_count": 12,
     "metadata": {},
     "output_type": "execute_result"
    }
   ],
   "source": [
    "# In case you were hesitating:\n",
    "merge_sort([4,6,1,3,2,5,7])"
   ]
  },
  {
   "cell_type": "markdown",
   "metadata": {
    "slideshow": {
     "slide_type": "slide"
    }
   },
   "source": [
    "## Typical characteristics\n",
    "- does it result in a desirable outcome? **(correctness)**\n",
    "- how fast is it? **(runtime)**\n",
    "- how much memory does it take? **(space/memory requirement)**"
   ]
  },
  {
   "cell_type": "markdown",
   "metadata": {
    "slideshow": {
     "slide_type": "slide"
    }
   },
   "source": [
    "### Ok, let's start with correctness\n",
    "Let's prepare a tiny testing unit to check if our algorithms work. It won't guarantee anything, but would *suggest* that we haven't screwed up anywhere."
   ]
  },
  {
   "cell_type": "code",
   "execution_count": 13,
   "metadata": {
    "slideshow": {
     "slide_type": "slide"
    }
   },
   "outputs": [],
   "source": [
    "import numpy as np\n",
    "\n",
    "def get_consec_instance(N):\n",
    "    input_sorted = [i+1 for i in range(N)] # generate a sequence of numbers\n",
    "    input_unsorted = np.random.permutation(input_sorted)\n",
    "    return input_sorted, input_unsorted\n",
    "\n",
    "def get_rnd_instance(N):\n",
    "    input_sorted = [0 for i in range(N)]\n",
    "    input_sorted[0] = np.random.randint(N)\n",
    "    for i in range(1,N):\n",
    "        input_sorted[i] = input_sorted[i-1] + np.random.randint(N)\n",
    "        \n",
    "    input_unsorted = np.random.permutation(input_sorted)\n",
    "\n",
    "    return input_sorted, input_unsorted"
   ]
  },
  {
   "cell_type": "code",
   "execution_count": 14,
   "metadata": {
    "slideshow": {
     "slide_type": "slide"
    }
   },
   "outputs": [],
   "source": [
    "def test_algo(label, sort_function, inst_generators, no_instances=50, N = 7):\n",
    "    \n",
    "    print(\"Testing algo: `{}`\".format(label))\n",
    "\n",
    "    for gen_function, label in inst_generators:\n",
    "        print(f\"{label}\")\n",
    "        n_failed = 0\n",
    "        for _ in range(no_instances):\n",
    "            arr_sorted, arr_unsorted = gen_function(N)\n",
    "            out = sort_function(arr_unsorted)\n",
    "            if np.all(out == arr_sorted):\n",
    "                print(\".\", end=\"\")\n",
    "            else:\n",
    "                print(f\"\\nFAIL: expected {arr_sorted}, returned {out}\", end=\"\")\n",
    "                n_failed += 1\n",
    "        print(f\"\\ndone. FAILS: {n_failed} out of {no_instances}\")"
   ]
  },
  {
   "cell_type": "code",
   "execution_count": 52,
   "metadata": {
    "scrolled": true,
    "slideshow": {
     "slide_type": "slide"
    }
   },
   "outputs": [
    {
     "name": "stdout",
     "output_type": "stream",
     "text": [
      "==================================================\n",
      "Testing algo: `Bubble sort`\n",
      "Consecutive numbers\n",
      "..................................................\n",
      "done. FAILS: 0 out of 50\n",
      "Random numbers\n",
      "..................................................\n",
      "done. FAILS: 0 out of 50\n",
      "==================================================\n",
      "Testing algo: `Merge sort`\n",
      "Consecutive numbers\n",
      "..................................................\n",
      "done. FAILS: 0 out of 50\n",
      "Random numbers\n",
      "..................................................\n",
      "done. FAILS: 0 out of 50\n",
      "==================================================\n",
      "Testing algo: `Panic sort`\n",
      "Consecutive numbers\n",
      "\n",
      "FAIL: expected [1, 2, 3, 4, 5, 6, 7], returned [3 1 6 2 7 4 5]\n",
      "FAIL: expected [1, 2, 3, 4, 5, 6, 7], returned [3 1 5 2 7 4 6]\n",
      "FAIL: expected [1, 2, 3, 4, 5, 6, 7], returned [3 1 5 2 7 4 6]\n",
      "FAIL: expected [1, 2, 3, 4, 5, 6, 7], returned [3 1 5 2 7 4 6]\n",
      "FAIL: expected [1, 2, 3, 4, 5, 6, 7], returned [3 1 5 2 7 4 6]\n",
      "FAIL: expected [1, 2, 3, 4, 5, 6, 7], returned [3 1 5 2 7 4 6]\n",
      "FAIL: expected [1, 2, 3, 4, 5, 6, 7], returned [3 1 5 2 7 4 6]\n",
      "FAIL: expected [1, 2, 3, 4, 5, 6, 7], returned [3 1 5 2 7 4 6]\n",
      "FAIL: expected [1, 2, 3, 4, 5, 6, 7], returned [3 1 5 2 7 4 6]\n",
      "FAIL: expected [1, 2, 3, 4, 5, 6, 7], returned [3 1 5 2 7 4 6]\n",
      "FAIL: expected [1, 2, 3, 4, 5, 6, 7], returned [3 1 5 2 7 4 6]\n",
      "FAIL: expected [1, 2, 3, 4, 5, 6, 7], returned [3 1 5 2 7 4 6]\n",
      "FAIL: expected [1, 2, 3, 4, 5, 6, 7], returned [3 1 5 2 7 4 6]\n",
      "FAIL: expected [1, 2, 3, 4, 5, 6, 7], returned [3 1 5 2 7 4 6]\n",
      "FAIL: expected [1, 2, 3, 4, 5, 6, 7], returned [3 1 5 2 7 4 6]\n",
      "FAIL: expected [1, 2, 3, 4, 5, 6, 7], returned [3 1 5 2 7 4 6]\n",
      "FAIL: expected [1, 2, 3, 4, 5, 6, 7], returned [3 1 5 2 7 4 6]\n",
      "FAIL: expected [1, 2, 3, 4, 5, 6, 7], returned [3 1 5 2 7 4 6]\n",
      "FAIL: expected [1, 2, 3, 4, 5, 6, 7], returned [3 1 5 2 7 4 6]\n",
      "FAIL: expected [1, 2, 3, 4, 5, 6, 7], returned [3 1 5 2 7 4 6]\n",
      "FAIL: expected [1, 2, 3, 4, 5, 6, 7], returned [3 1 5 2 7 4 6]\n",
      "FAIL: expected [1, 2, 3, 4, 5, 6, 7], returned [3 1 5 2 7 4 6]\n",
      "FAIL: expected [1, 2, 3, 4, 5, 6, 7], returned [3 1 5 2 7 4 6]\n",
      "FAIL: expected [1, 2, 3, 4, 5, 6, 7], returned [3 1 5 2 7 4 6]\n",
      "FAIL: expected [1, 2, 3, 4, 5, 6, 7], returned [3 1 5 2 7 4 6]\n",
      "FAIL: expected [1, 2, 3, 4, 5, 6, 7], returned [3 1 5 2 7 4 6]\n",
      "FAIL: expected [1, 2, 3, 4, 5, 6, 7], returned [3 1 5 2 7 4 6]\n",
      "FAIL: expected [1, 2, 3, 4, 5, 6, 7], returned [3 1 5 2 7 4 6]\n",
      "FAIL: expected [1, 2, 3, 4, 5, 6, 7], returned [3 1 5 2 7 4 6]\n",
      "FAIL: expected [1, 2, 3, 4, 5, 6, 7], returned [3 1 5 2 7 4 6]\n",
      "FAIL: expected [1, 2, 3, 4, 5, 6, 7], returned [3 1 5 2 7 4 6]\n",
      "FAIL: expected [1, 2, 3, 4, 5, 6, 7], returned [3 1 5 2 7 4 6]\n",
      "FAIL: expected [1, 2, 3, 4, 5, 6, 7], returned [3 1 5 2 7 4 6]\n",
      "FAIL: expected [1, 2, 3, 4, 5, 6, 7], returned [3 1 5 2 7 4 6]\n",
      "FAIL: expected [1, 2, 3, 4, 5, 6, 7], returned [3 1 5 2 7 4 6]\n",
      "FAIL: expected [1, 2, 3, 4, 5, 6, 7], returned [3 1 5 2 7 4 6]\n",
      "FAIL: expected [1, 2, 3, 4, 5, 6, 7], returned [3 1 5 2 7 4 6]\n",
      "FAIL: expected [1, 2, 3, 4, 5, 6, 7], returned [3 1 5 2 7 4 6]\n",
      "FAIL: expected [1, 2, 3, 4, 5, 6, 7], returned [3 1 5 2 7 4 6]\n",
      "FAIL: expected [1, 2, 3, 4, 5, 6, 7], returned [3 1 5 2 7 4 6]\n",
      "FAIL: expected [1, 2, 3, 4, 5, 6, 7], returned [3 1 5 2 7 4 6]\n",
      "FAIL: expected [1, 2, 3, 4, 5, 6, 7], returned [3 1 5 2 7 4 6]\n",
      "FAIL: expected [1, 2, 3, 4, 5, 6, 7], returned [3 1 5 2 7 4 6]\n",
      "FAIL: expected [1, 2, 3, 4, 5, 6, 7], returned [3 1 5 2 7 4 6]\n",
      "FAIL: expected [1, 2, 3, 4, 5, 6, 7], returned [3 1 5 2 7 4 6]\n",
      "FAIL: expected [1, 2, 3, 4, 5, 6, 7], returned [3 1 5 2 7 4 6]\n",
      "FAIL: expected [1, 2, 3, 4, 5, 6, 7], returned [3 1 5 2 7 4 6]\n",
      "FAIL: expected [1, 2, 3, 4, 5, 6, 7], returned [3 1 5 2 7 4 6]\n",
      "FAIL: expected [1, 2, 3, 4, 5, 6, 7], returned [3 1 5 2 7 4 6]\n",
      "FAIL: expected [1, 2, 3, 4, 5, 6, 7], returned [3 1 5 2 7 4 6]\n",
      "done. FAILS: 50 out of 50\n",
      "Random numbers\n",
      "\n",
      "FAIL: expected [0, 0, 1, 2, 2, 5, 5], returned [5 0 2 2 5 1 0]\n",
      "FAIL: expected [0, 0, 1, 2, 2, 5, 5], returned [5 0 2 2 5 1 0]\n",
      "FAIL: expected [0, 0, 1, 2, 2, 5, 5], returned [5 0 2 2 5 1 0]\n",
      "FAIL: expected [0, 0, 1, 2, 2, 5, 5], returned [5 0 2 2 5 1 0]\n",
      "FAIL: expected [0, 0, 1, 2, 2, 5, 5], returned [5 0 2 2 5 1 0]\n",
      "FAIL: expected [0, 0, 1, 2, 2, 5, 5], returned [5 0 2 2 5 1 0]\n",
      "FAIL: expected [0, 0, 1, 2, 2, 5, 5], returned [5 0 2 2 5 1 0]\n",
      "FAIL: expected [0, 0, 1, 2, 2, 5, 5], returned [5 0 2 2 5 1 0]\n",
      "FAIL: expected [0, 0, 1, 2, 2, 5, 5], returned [5 0 2 2 5 1 0]\n",
      "FAIL: expected [0, 0, 1, 2, 2, 5, 5], returned [5 0 2 2 5 1 0]\n",
      "FAIL: expected [0, 0, 1, 2, 2, 5, 5], returned [5 0 2 2 5 1 0]\n",
      "FAIL: expected [0, 0, 1, 2, 2, 5, 5], returned [5 0 2 2 5 1 0]\n",
      "FAIL: expected [0, 0, 1, 2, 2, 5, 5], returned [5 0 2 2 5 1 0]\n",
      "FAIL: expected [0, 0, 1, 2, 2, 5, 5], returned [5 0 2 2 5 1 0]\n",
      "FAIL: expected [0, 0, 1, 2, 2, 5, 5], returned [5 0 2 2 5 1 0]\n",
      "FAIL: expected [0, 0, 1, 2, 2, 5, 5], returned [5 0 2 2 5 1 0]\n",
      "FAIL: expected [0, 0, 1, 2, 2, 5, 5], returned [5 0 2 2 5 1 0]\n",
      "FAIL: expected [0, 0, 1, 2, 2, 5, 5], returned [5 0 2 2 5 1 0]\n",
      "FAIL: expected [0, 0, 1, 2, 2, 5, 5], returned [5 0 2 2 5 1 0]\n",
      "FAIL: expected [0, 0, 1, 2, 2, 5, 5], returned [5 0 2 2 5 1 0]\n",
      "FAIL: expected [0, 0, 1, 2, 2, 5, 5], returned [5 0 2 2 5 1 0]\n",
      "FAIL: expected [0, 0, 1, 2, 2, 5, 5], returned [5 0 2 2 5 1 0]\n",
      "FAIL: expected [0, 0, 1, 2, 2, 5, 5], returned [5 0 2 2 5 1 0]\n",
      "FAIL: expected [0, 0, 1, 2, 2, 5, 5], returned [5 0 2 2 5 1 0]\n",
      "FAIL: expected [0, 0, 1, 2, 2, 5, 5], returned [5 0 2 2 5 1 0]\n",
      "FAIL: expected [0, 0, 1, 2, 2, 5, 5], returned [5 0 2 2 5 1 0]\n",
      "FAIL: expected [0, 0, 1, 2, 2, 5, 5], returned [5 0 2 2 5 1 0]\n",
      "FAIL: expected [0, 0, 1, 2, 2, 5, 5], returned [5 0 2 2 5 1 0]\n",
      "FAIL: expected [0, 0, 1, 2, 2, 5, 5], returned [5 0 2 2 5 1 0]\n",
      "FAIL: expected [0, 0, 1, 2, 2, 5, 5], returned [5 0 2 2 5 1 0]\n",
      "FAIL: expected [0, 0, 1, 2, 2, 5, 5], returned [5 0 2 2 5 1 0]\n",
      "FAIL: expected [0, 0, 1, 2, 2, 5, 5], returned [5 0 2 2 5 1 0]\n",
      "FAIL: expected [0, 0, 1, 2, 2, 5, 5], returned [5 0 2 2 5 1 0]\n",
      "FAIL: expected [0, 0, 1, 2, 2, 5, 5], returned [5 0 2 2 5 1 0]\n",
      "FAIL: expected [0, 0, 1, 2, 2, 5, 5], returned [5 0 2 2 5 1 0]\n",
      "FAIL: expected [0, 0, 1, 2, 2, 5, 5], returned [5 0 2 2 5 1 0]\n",
      "FAIL: expected [0, 0, 1, 2, 2, 5, 5], returned [5 0 2 2 5 1 0]\n",
      "FAIL: expected [0, 0, 1, 2, 2, 5, 5], returned [5 0 2 2 5 1 0]\n",
      "FAIL: expected [0, 0, 1, 2, 2, 5, 5], returned [5 0 2 2 5 1 0]\n",
      "FAIL: expected [0, 0, 1, 2, 2, 5, 5], returned [5 0 2 2 5 1 0]\n",
      "FAIL: expected [0, 0, 1, 2, 2, 5, 5], returned [5 0 2 2 5 1 0]\n",
      "FAIL: expected [0, 0, 1, 2, 2, 5, 5], returned [5 0 2 2 5 1 0]\n",
      "FAIL: expected [0, 0, 1, 2, 2, 5, 5], returned [5 0 2 2 5 1 0]\n",
      "FAIL: expected [0, 0, 1, 2, 2, 5, 5], returned [5 0 2 2 5 1 0]\n",
      "FAIL: expected [0, 0, 1, 2, 2, 5, 5], returned [5 0 2 2 5 1 0]\n",
      "FAIL: expected [0, 0, 1, 2, 2, 5, 5], returned [5 0 2 2 5 1 0]\n",
      "FAIL: expected [0, 0, 1, 2, 2, 5, 5], returned [5 0 2 2 5 1 0]\n",
      "FAIL: expected [0, 0, 1, 2, 2, 5, 5], returned [5 0 2 2 5 1 0]\n",
      "FAIL: expected [0, 0, 1, 2, 2, 5, 5], returned [5 0 2 2 5 1 0]\n",
      "FAIL: expected [0, 0, 1, 2, 2, 5, 5], returned [5 0 2 2 5 1 0]\n",
      "done. FAILS: 50 out of 50\n",
      "==================================================\n",
      "Testing algo: `Real quick sort`\n",
      "Consecutive numbers\n",
      "..................................................\n",
      "done. FAILS: 0 out of 50\n",
      "Random numbers\n",
      "\n",
      "FAIL: expected [5, 11, 17, 23, 29, 34, 39], returned [1, 2, 3, 4, 5, 6, 7]\n",
      "FAIL: expected [6, 10, 14, 14, 14, 20, 23], returned [1, 2, 3, 4, 5, 6, 7]\n",
      "FAIL: expected [0, 1, 5, 6, 11, 11, 12], returned [1, 2, 3, 4, 5, 6, 7]\n",
      "FAIL: expected [4, 8, 12, 18, 21, 26, 32], returned [1, 2, 3, 4, 5, 6, 7]\n",
      "FAIL: expected [5, 5, 7, 9, 11, 17, 20], returned [1, 2, 3, 4, 5, 6, 7]\n",
      "FAIL: expected [2, 8, 11, 15, 21, 23, 27], returned [1, 2, 3, 4, 5, 6, 7]\n",
      "FAIL: expected [0, 1, 3, 4, 7, 7, 12], returned [1, 2, 3, 4, 5, 6, 7]\n",
      "FAIL: expected [4, 5, 10, 13, 16, 22, 28], returned [1, 2, 3, 4, 5, 6, 7]\n",
      "FAIL: expected [4, 6, 11, 13, 16, 19, 24], returned [1, 2, 3, 4, 5, 6, 7]\n",
      "FAIL: expected [0, 2, 4, 8, 12, 16, 18], returned [1, 2, 3, 4, 5, 6, 7]\n",
      "FAIL: expected [5, 5, 10, 11, 14, 19, 21], returned [1, 2, 3, 4, 5, 6, 7]\n",
      "FAIL: expected [2, 4, 9, 9, 12, 15, 17], returned [1, 2, 3, 4, 5, 6, 7]\n",
      "FAIL: expected [3, 8, 10, 16, 16, 18, 19], returned [1, 2, 3, 4, 5, 6, 7]\n",
      "FAIL: expected [0, 6, 10, 12, 18, 22, 28], returned [1, 2, 3, 4, 5, 6, 7]\n",
      "FAIL: expected [1, 1, 4, 7, 7, 10, 13], returned [1, 2, 3, 4, 5, 6, 7]\n",
      "FAIL: expected [6, 12, 12, 16, 20, 21, 23], returned [1, 2, 3, 4, 5, 6, 7]\n",
      "FAIL: expected [2, 7, 9, 12, 15, 21, 24], returned [1, 2, 3, 4, 5, 6, 7]\n",
      "FAIL: expected [2, 5, 11, 13, 14, 19, 22], returned [1, 2, 3, 4, 5, 6, 7]\n",
      "FAIL: expected [2, 3, 4, 9, 14, 20, 25], returned [1, 2, 3, 4, 5, 6, 7]\n",
      "FAIL: expected [1, 2, 5, 7, 12, 18, 21], returned [1, 2, 3, 4, 5, 6, 7]\n",
      "FAIL: expected [3, 7, 13, 13, 15, 16, 17], returned [1, 2, 3, 4, 5, 6, 7]\n",
      "FAIL: expected [3, 5, 6, 12, 12, 17, 20], returned [1, 2, 3, 4, 5, 6, 7]\n",
      "FAIL: expected [4, 10, 12, 15, 19, 21, 25], returned [1, 2, 3, 4, 5, 6, 7]\n",
      "FAIL: expected [4, 7, 10, 14, 16, 22, 22], returned [1, 2, 3, 4, 5, 6, 7]\n",
      "FAIL: expected [4, 10, 13, 18, 19, 20, 23], returned [1, 2, 3, 4, 5, 6, 7]\n",
      "FAIL: expected [5, 8, 14, 19, 24, 26, 26], returned [1, 2, 3, 4, 5, 6, 7]\n",
      "FAIL: expected [6, 8, 8, 10, 11, 14, 14], returned [1, 2, 3, 4, 5, 6, 7]\n",
      "FAIL: expected [6, 6, 11, 17, 22, 28, 34], returned [1, 2, 3, 4, 5, 6, 7]\n",
      "FAIL: expected [1, 6, 11, 14, 15, 20, 26], returned [1, 2, 3, 4, 5, 6, 7]\n",
      "FAIL: expected [5, 11, 16, 19, 24, 29, 31], returned [1, 2, 3, 4, 5, 6, 7]\n",
      "FAIL: expected [2, 6, 11, 14, 14, 14, 16], returned [1, 2, 3, 4, 5, 6, 7]\n",
      "FAIL: expected [0, 0, 6, 6, 9, 11, 12], returned [1, 2, 3, 4, 5, 6, 7]\n",
      "FAIL: expected [1, 6, 10, 12, 17, 22, 27], returned [1, 2, 3, 4, 5, 6, 7]\n",
      "FAIL: expected [2, 4, 7, 13, 16, 20, 23], returned [1, 2, 3, 4, 5, 6, 7]\n",
      "FAIL: expected [4, 8, 10, 11, 12, 15, 21], returned [1, 2, 3, 4, 5, 6, 7]\n",
      "FAIL: expected [2, 7, 12, 15, 16, 16, 19], returned [1, 2, 3, 4, 5, 6, 7]\n",
      "FAIL: expected [4, 10, 13, 18, 18, 23, 28], returned [1, 2, 3, 4, 5, 6, 7]\n",
      "FAIL: expected [0, 6, 12, 12, 15, 19, 24], returned [1, 2, 3, 4, 5, 6, 7]\n",
      "FAIL: expected [4, 10, 14, 18, 21, 27, 29], returned [1, 2, 3, 4, 5, 6, 7]\n",
      "FAIL: expected [0, 1, 1, 1, 5, 7, 7], returned [1, 2, 3, 4, 5, 6, 7]\n",
      "FAIL: expected [0, 6, 9, 14, 19, 25, 26], returned [1, 2, 3, 4, 5, 6, 7]\n",
      "FAIL: expected [6, 11, 14, 18, 19, 19, 21], returned [1, 2, 3, 4, 5, 6, 7]\n",
      "FAIL: expected [1, 2, 2, 3, 7, 13, 18], returned [1, 2, 3, 4, 5, 6, 7]\n",
      "FAIL: expected [0, 2, 5, 5, 11, 15, 18], returned [1, 2, 3, 4, 5, 6, 7]\n",
      "FAIL: expected [1, 1, 3, 7, 8, 10, 14], returned [1, 2, 3, 4, 5, 6, 7]\n",
      "FAIL: expected [1, 1, 5, 10, 10, 12, 18], returned [1, 2, 3, 4, 5, 6, 7]\n",
      "FAIL: expected [2, 4, 6, 7, 7, 12, 13], returned [1, 2, 3, 4, 5, 6, 7]\n",
      "FAIL: expected [4, 8, 10, 10, 10, 14, 20], returned [1, 2, 3, 4, 5, 6, 7]\n",
      "FAIL: expected [6, 11, 15, 16, 19, 22, 22], returned [1, 2, 3, 4, 5, 6, 7]\n",
      "FAIL: expected [6, 11, 12, 17, 19, 22, 22], returned [1, 2, 3, 4, 5, 6, 7]\n",
      "done. FAILS: 50 out of 50\n"
     ]
    }
   ],
   "source": [
    "for sorting_func, label in [\n",
    "    (bubble_sort, \"Bubble sort\"), \n",
    "    (merge_sort, \"Merge sort\"), \n",
    "    (panic_sort, \"Panic sort\"), \n",
    "    (real_quick_sort, \"Real quick sort\")]:\n",
    "    \n",
    "    print(\"==================================================\")\n",
    "    test_algo(label, sorting_func, \n",
    "              [(get_consec_instance, \"Consecutive numbers\"), \n",
    "               (get_rnd_instance, \"Random numbers\")])"
   ]
  },
  {
   "cell_type": "markdown",
   "metadata": {
    "slideshow": {
     "slide_type": "slide"
    }
   },
   "source": [
    "(This \"real quick sort\" is not completely \"fake\", though. It is okay assuming you know something about your `input_array`. If interested, see [Bucket sort](https://en.wikipedia.org/wiki/Bucket_sort), [Radix sort](https://en.wikipedia.org/wiki/Radix_sort) and such)"
   ]
  },
  {
   "cell_type": "markdown",
   "metadata": {
    "slideshow": {
     "slide_type": "slide"
    }
   },
   "source": [
    "### Runtime\n",
    "\n",
    "Everyone is data-driven now, right? -- so let's just make some data (again) and see how these different approaches perform."
   ]
  },
  {
   "cell_type": "code",
   "execution_count": 16,
   "metadata": {
    "slideshow": {
     "slide_type": "fragment"
    }
   },
   "outputs": [],
   "source": [
    "from time import time\n",
    "\n",
    "def get_runtimes(sort_function, gen_function=get_rnd_instance, N=100, no_inst = 100):\n",
    "    runtimes = []\n",
    "    for i in range(no_inst):\n",
    "        _, arr_input = gen_function(N)\n",
    "        t0 = time()\n",
    "        out = sort_function(arr_input)\n",
    "        t1 = time()\n",
    "        runtimes.append(t1-t0) # runtime in seconds\n",
    "    return runtimes"
   ]
  },
  {
   "cell_type": "code",
   "execution_count": 17,
   "metadata": {
    "slideshow": {
     "slide_type": "slide"
    }
   },
   "outputs": [
    {
     "data": {
      "text/plain": [
       "<matplotlib.axes._subplots.AxesSubplot at 0x7f8acf7e7d10>"
      ]
     },
     "execution_count": 17,
     "metadata": {},
     "output_type": "execute_result"
    },
    {
     "data": {
      "image/png": "[encoded data removed]",
      "text/plain": [
       "<Figure size 720x720 with 1 Axes>"
      ]
     },
     "metadata": {
      "needs_background": "light"
     },
     "output_type": "display_data"
    }
   ],
   "source": [
    "import matplotlib.pyplot as plt\n",
    "import pandas as pd\n",
    "import seaborn as sns\n",
    "%matplotlib inline\n",
    "\n",
    "def make_runtimes_plot(gen_function = get_rnd_instance, N = 10, no_inst=100):\n",
    "    runtimes = pd.DataFrame(data = {\n",
    "        'Bubble_sort' : get_runtimes(bubble_sort, gen_function, N, no_inst),\n",
    "        'Merge_sort' : get_runtimes(merge_sort, gen_function)\n",
    "    }, columns = ['Bubble_sort', 'Merge_sort'])\n",
    "\n",
    "    ax = sns.stripplot(y = runtimes[\"Bubble_sort\"]*1000., color='red', jitter=True)\n",
    "    ax = sns.stripplot(y = runtimes['Merge_sort']*1000., color='blue', ax = ax, jitter = True)\n",
    "    ax.set(xlabel='red = bubble sort, blue = merge sort, N={}'.format(N), ylabel='runtimes, msec')\n",
    "    return ax\n",
    "\n",
    "plt.figure(figsize = (10,10))\n",
    "make_runtimes_plot(N=100)"
   ]
  },
  {
   "cell_type": "markdown",
   "metadata": {
    "slideshow": {
     "slide_type": "slide"
    }
   },
   "source": [
    "### However, there are some problems with this approach."
   ]
  },
  {
   "cell_type": "markdown",
   "metadata": {
    "slideshow": {
     "slide_type": "fragment"
    }
   },
   "source": [
    "### Problem 1: scaling\n",
    "First, let us consider what happens as we change the length of the input. It is what usually matters -- how does our algorithm *scale* (no one is really interested in sorting arrays with `N=5`...)"
   ]
  },
  {
   "cell_type": "code",
   "execution_count": 18,
   "metadata": {
    "scrolled": true,
    "slideshow": {
     "slide_type": "slide"
    }
   },
   "outputs": [
    {
     "data": {
      "text/plain": [
       "<matplotlib.axes._subplots.AxesSubplot at 0x7f8acc657f90>"
      ]
     },
     "execution_count": 18,
     "metadata": {},
     "output_type": "execute_result"
    },
    {
     "data": {
      "image/png": "[encoded data removed]",
      "text/plain": [
       "<Figure size 1152x720 with 4 Axes>"
      ]
     },
     "metadata": {
      "needs_background": "light"
     },
     "output_type": "display_data"
    }
   ],
   "source": [
    "plt.figure(figsize = (16,10))\n",
    "plt.subplot(1,4,1)\n",
    "make_runtimes_plot(N=10)\n",
    "\n",
    "plt.subplot(1,4,2)\n",
    "make_runtimes_plot(N=25)\n",
    "\n",
    "plt.subplot(1,4,3)\n",
    "make_runtimes_plot(N=50)\n",
    "\n",
    "plt.subplot(1,4,4)\n",
    "make_runtimes_plot(N=100)"
   ]
  },
  {
   "cell_type": "markdown",
   "metadata": {
    "slideshow": {
     "slide_type": "slide"
    }
   },
   "source": [
    "So okay, to understand what's going on here, we'd need to run the experiment for several different `N`-s. Say, let us plot mean runtimes instead..."
   ]
  },
  {
   "cell_type": "code",
   "execution_count": 19,
   "metadata": {
    "slideshow": {
     "slide_type": "fragment"
    }
   },
   "outputs": [],
   "source": [
    "def make_mean_runtimes(sort_function, gen_function = get_rnd_instance, N1 = 10, N2 = 100, no_inst=50):\n",
    "    runtimes = []\n",
    "    for i in range(N2-N1):\n",
    "        runtimes.append(np.mean(get_runtimes(sort_function, gen_function, N = N1 + i, no_inst = no_inst))*1000)\n",
    "    \n",
    "    return runtimes\n",
    "\n",
    "N1 = 5; N2 = 100\n",
    "\n",
    "rt_bsort = make_mean_runtimes(bubble_sort, N1=N1, N2 = N2)\n",
    "rt_msort = make_mean_runtimes(merge_sort, N1=N1, N2 = N2)"
   ]
  },
  {
   "cell_type": "code",
   "execution_count": 20,
   "metadata": {
    "slideshow": {
     "slide_type": "slide"
    }
   },
   "outputs": [
    {
     "data": {
      "text/plain": [
       "[<matplotlib.lines.Line2D at 0x7f8acc312650>]"
      ]
     },
     "execution_count": 20,
     "metadata": {},
     "output_type": "execute_result"
    },
    {
     "data": {
      "image/png": "[encoded data removed]",
      "text/plain": [
       "<Figure size 1152x720 with 2 Axes>"
      ]
     },
     "metadata": {
      "needs_background": "light"
     },
     "output_type": "display_data"
    }
   ],
   "source": [
    "from math import log\n",
    "\n",
    "plt.figure(figsize = (16,10))\n",
    "plt.subplot(1,2,1)\n",
    "plt.plot([N1 + i for i in range(N2-N1)], rt_bsort, 'r-')\n",
    "plt.plot([N1 + i for i in range(N2-N1)], rt_msort, 'b-')\n",
    "plt.gca().set(xlabel='Input array size(N). red = bubble sort, blue = merge sort', ylabel='mean runtimes, msec')\n",
    "plt.subplot(1,2,2)\n",
    "plt.plot([N1 + i for i in range(N2-N1)], [x*x for x in range(N1, N2)], 'r-')\n",
    "plt.plot([N1 + i for i in range(N2-N1)], [x*log(x) for x in range(N1,N2)], 'b-')"
   ]
  },
  {
   "cell_type": "markdown",
   "metadata": {
    "slideshow": {
     "slide_type": "slide"
    }
   },
   "source": [
    "### Problem 2: special inputs\n",
    "Then, let us feed in some pretty special inputs:"
   ]
  },
  {
   "cell_type": "code",
   "execution_count": 21,
   "metadata": {
    "slideshow": {
     "slide_type": "fragment"
    }
   },
   "outputs": [],
   "source": [
    "def gen_magic_sequence(N):\n",
    "    input_sorted = [i+1 for i in range(N)] # generate a sequence of numbers\n",
    "    input_unsorted = [i+1 for i in range(N)]\n",
    "    a = input_unsorted[N // 2]\n",
    "    b = input_unsorted[N // 2 + 1]\n",
    "    input_unsorted[N // 2] = b; input_unsorted[N // 2 + 1] = a # how 'bout this?!\n",
    "    \n",
    "    return input_sorted, input_unsorted"
   ]
  },
  {
   "cell_type": "code",
   "execution_count": 22,
   "metadata": {
    "slideshow": {
     "slide_type": "slide"
    }
   },
   "outputs": [
    {
     "data": {
      "text/plain": [
       "<matplotlib.axes._subplots.AxesSubplot at 0x7f8acc2e7290>"
      ]
     },
     "execution_count": 22,
     "metadata": {},
     "output_type": "execute_result"
    },
    {
     "data": {
      "image/png": "[encoded data removed]",
      "text/plain": [
       "<Figure size 1152x720 with 2 Axes>"
      ]
     },
     "metadata": {
      "needs_background": "light"
     },
     "output_type": "display_data"
    }
   ],
   "source": [
    "plt.figure(figsize = (16,10))\n",
    "plt.subplot(1,2,1)\n",
    "make_runtimes_plot(N=50)\n",
    "\n",
    "plt.subplot(1,2,2)\n",
    "make_runtimes_plot(gen_magic_sequence, N=50)"
   ]
  },
  {
   "cell_type": "code",
   "execution_count": 23,
   "metadata": {
    "slideshow": {
     "slide_type": "slide"
    }
   },
   "outputs": [],
   "source": [
    "rt_bsort_m = make_mean_runtimes(bubble_sort, gen_function=gen_magic_sequence, N1=N1, N2 = N2)\n",
    "rt_msort_m = make_mean_runtimes(merge_sort,  gen_function=gen_magic_sequence, N1=N1, N2 = N2)"
   ]
  },
  {
   "cell_type": "code",
   "execution_count": 24,
   "metadata": {
    "slideshow": {
     "slide_type": "slide"
    }
   },
   "outputs": [
    {
     "data": {
      "text/plain": [
       "[<matplotlib.lines.Line2D at 0x7f8acc199b50>]"
      ]
     },
     "execution_count": 24,
     "metadata": {},
     "output_type": "execute_result"
    },
    {
     "data": {
      "image/png": "[encoded data removed]",
      "text/plain": [
       "<Figure size 1152x720 with 2 Axes>"
      ]
     },
     "metadata": {
      "needs_background": "light"
     },
     "output_type": "display_data"
    }
   ],
   "source": [
    "plt.figure(figsize = (16,10))\n",
    "plt.subplot(1,2,1)\n",
    "plt.plot([N1 + i for i in range(N2-N1)], rt_bsort_m, 'r-')\n",
    "plt.plot([N1 + i for i in range(N2-N1)], rt_msort_m, 'b-')\n",
    "plt.gca().set(xlabel='Input array size(N). red = bubble sort, blue = merge sort', ylabel='mean runtimes, msec')\n",
    "plt.subplot(1,2,2)\n",
    "plt.plot([N1 + i for i in range(N2-N1)], [x*x for x in range(N1, N2)], 'r-')\n",
    "plt.plot([N1 + i for i in range(N2-N1)], [x*log(x) for x in range(N1,N2)], 'b-')"
   ]
  },
  {
   "cell_type": "markdown",
   "metadata": {
    "slideshow": {
     "slide_type": "fragment"
    }
   },
   "source": [
    "so the question is..."
   ]
  },
  {
   "cell_type": "markdown",
   "metadata": {
    "slideshow": {
     "slide_type": "fragment"
    }
   },
   "source": [
    "... WHAT. IS. **THIS** ?!"
   ]
  },
  {
   "cell_type": "markdown",
   "metadata": {
    "slideshow": {
     "slide_type": "slide"
    }
   },
   "source": [
    "And the answer is: well, it depends on input! (surprise!). So, intuitively, we'd want to differentiate between the *worst-case*, *best-case*, and *average* performance (whatever it all would mean, precisely).\n",
    "\n",
    "Actually, what we see, say, on Wiki [page](https://en.wikipedia.org/wiki/Merge_sort) describing an alorithm, is exactly this.\n",
    "\n",
    "Therefore, people quite often talk about the *asymptotic worst-case runtime*. Now you have seen what each word means :)\n"
   ]
  },
  {
   "cell_type": "markdown",
   "metadata": {
    "slideshow": {
     "slide_type": "slide"
    }
   },
   "source": [
    "### So, what to do?\n",
    "Quite often you can see this $O(\\cdot)$ notation. This is an *upper bound* on the respective runtime (say, on the *worst-case* performance. What is meant, usually, is this is how the runtime behaves as the *size* of the problem increases infinitely. For our case, the problem size is, naturally, $N$ -- how many numbers are there in the array.\n",
    "\n",
    "People usually do not care about multiplicative constants (since $Ax^3$ will grow more than $Bx^2$, eventually, for any $A,B>0$ and $x>0$). This allows to disregard details and just count operations that do not depend on the input size. Let's consider an example."
   ]
  },
  {
   "cell_type": "markdown",
   "metadata": {
    "slideshow": {
     "slide_type": "fragment"
    }
   },
   "source": [
    "More **formally**: runtime $T(n) \\in O(g(n))$ if and only if there exists some $n_0 > 0$ and $C > 0$ such that for all $n>n_0:~T(n)\\leq Cg(n)$."
   ]
  },
  {
   "cell_type": "markdown",
   "metadata": {
    "slideshow": {
     "slide_type": "slide"
    }
   },
   "source": [
    "- **For the bubble sort:** \n",
    "    + In the worst case, we will have to flip every one of the $N$ numbers with every other (if the input array is sorted, but in the wrong way -- e.g., in descending instead of ascending order). \n",
    "    + Then, we will have to perform $N(N-1)$ swap operations -- at most, regardless of anything. \n",
    "    + This is $N^2-N$, which still grows as fast as $N^2$, as $N$ increases infinitely. \n",
    "    \n",
    "So, we'd write it as \"bubble sort worst-case runtime is in $O(N^2)$\". (There is no way it could run slower, right?)\n"
   ]
  },
  {
   "cell_type": "markdown",
   "metadata": {
    "slideshow": {
     "slide_type": "slide"
    }
   },
   "source": [
    "- **For the merge sort:** let's consider what it does. \n",
    "    + Every `merge` operation takes $O(N)$ time, since it performs at most $N$ \"ticks\" while merging. We'd just need to count how many times this function could be invoked. \n",
    "    + Well, this is easy: this is the number of times we can divide $N$ into two, since each time we split it in two halves. \n",
    "    + If you think about it, this is the largest number $k$ such that $2^k \\leq N$. We can use a slight overestimate, a number $k$ such that $2^k=N$, which mathematicians call $\\log_2 N$. \n",
    "    + Therefore, we can say that we invoke the `merge` function (which takes $O(N)$ time), $\\log_2 N$ times.\n",
    "    \n",
    "So, the worst-case runtime of the merge sort is $O(N \\log N)$ (computer science people sometimes omit this subscript of $2$, if most of the logarithms are base-two)."
   ]
  },
  {
   "cell_type": "markdown",
   "metadata": {
    "slideshow": {
     "slide_type": "slide"
    }
   },
   "source": [
    "So, let's recap. What is the worst-case runtime for merge sort?\n",
    "\n",
    "- $O(N\\log N)$\n",
    "- $O(N^2)$\n",
    "- $O(N^3)$\n",
    "- $O(2^{2^N})$"
   ]
  },
  {
   "cell_type": "markdown",
   "metadata": {
    "slideshow": {
     "slide_type": "fragment"
    }
   },
   "source": [
    "Well, technically, **all** are correct :). It is just an upper bound. But it is usually the tight one we care about.\n",
    "\n",
    "Sometimes we want to know what is the least possible asymptotic runtime -- there is a special notation for that. For example, the bubble sort cannot make fewer than $O(N)$ elementary operations (it needs to scan the array, at the very least). Although, our magic in `merge_sort` procedure implies that we are always making $O(N\\log N)$ steps, no matter the initial data! (hence the last \"strange\" figure of runtimes)\n",
    "\n",
    "If interested, google Omega and Theta notations (e.g., see the [Wiki](https://en.wikipedia.org/wiki/Big_O_notation). But probably better explained in the intro chapter of a textbook).\n",
    "\n",
    "**Also:** in some cases, the hidden constant does matter -- so in the end of the day, for relatively simple/known problems: if you can, just google what's the best algorithm."
   ]
  },
  {
   "cell_type": "markdown",
   "metadata": {
    "slideshow": {
     "slide_type": "slide"
    }
   },
   "source": [
    "### The final remark on this\n",
    "In practice, please do sorting like this, unless it is necessary to do otherwise:"
   ]
  },
  {
   "cell_type": "code",
   "execution_count": 25,
   "metadata": {
    "slideshow": {
     "slide_type": "fragment"
    }
   },
   "outputs": [
    {
     "data": {
      "text/plain": [
       "array([1, 1, 2, 3, 4, 5, 7])"
      ]
     },
     "execution_count": 25,
     "metadata": {},
     "output_type": "execute_result"
    }
   ],
   "source": [
    "import numpy as np\n",
    "\n",
    "np.sort([1,5,2,7,3,4,1])"
   ]
  },
  {
   "cell_type": "code",
   "execution_count": 26,
   "metadata": {
    "slideshow": {
     "slide_type": "fragment"
    }
   },
   "outputs": [
    {
     "data": {
      "text/plain": [
       "array([1, 1, 2, 3, 4, 5, 7])"
      ]
     },
     "execution_count": 26,
     "metadata": {},
     "output_type": "execute_result"
    }
   ],
   "source": [
    "# or, if you want to look fancy:\n",
    "np.sort([1,5,2,7,3,4,1], kind='mergesort')"
   ]
  },
  {
   "cell_type": "markdown",
   "metadata": {
    "slideshow": {
     "slide_type": "fragment"
    }
   },
   "source": [
    "No need to reinvent the bicycle. There are many algorithms already implemented for you in several great libraries. For example, lots of useful things are in [scikit-learn](https://scikit-learn.org/stable/) and (as you can tell even from this notebook) [numpy](https://numpy.org/), and so on. So if you are thinking to implement something -- a good first step is\n",
    "\n",
    "**!! to look around, maybe something is already implemented !!**\n",
    "\n",
    "(and chances are, with high-quality code, with support for special hardware, if needed, etc.)."
   ]
  },
  {
   "cell_type": "markdown",
   "metadata": {
    "slideshow": {
     "slide_type": "slide"
    }
   },
   "source": [
    "## NP-hard problems\n",
    "\n",
    "It seems that not all problems are solvable in polynomial time (in general case). There is a class of problems such that:\n",
    "- a (given) solution can be *verified* in polynomial time,\n",
    "- but no known algorithm exists to solve it (i.e., find a solution in first place) in polynomial time. (**OR:** actually, solving it in polynomial time would allow to solve some more really hard problems in polynomial time)\n",
    "\n",
    "Is is a little more complicated than that, actually -- you can check out the concepts of [NP-hardness](https://en.wikipedia.org/wiki/NP-hardness), and [P vs NP](https://en.wikipedia.org/wiki/P_versus_NP_problem) problem, if you are interested. But if so, picking up a Computer Science textbook (or a course) might be a good idea..."
   ]
  },
  {
   "cell_type": "markdown",
   "metadata": {
    "slideshow": {
     "slide_type": "slide"
    }
   },
   "source": [
    "In practice, it means that there is a big class of (relevant) problems, that do not allow for efficient exact solution. In this case people sometimes try to devise *approximate* algorithms (and sometimes, pretty successfully).\n",
    "\n",
    "Selecting optimal phylogenetic trees / multiple sequence alignment (see, e.g., [wiki](https://en.wikipedia.org/wiki/Sequence_alignment)), [k-means](https://en.wikipedia.org/wiki/K-means_clustering) clustering, and many others are \"computationally difficult\". Also, see the [List](https://en.wikipedia.org/wiki/List_of_NP-complete_problems) of NP-complete problems for some more examples."
   ]
  },
  {
   "cell_type": "markdown",
   "metadata": {
    "slideshow": {
     "slide_type": "slide"
    }
   },
   "source": [
    "### A note: space requirements\n",
    "You can use this $O(\\cdot)$ notation to analyze other requirements as well: for example, how much space does your (or someone else's) algorithm requires. For example, note that bubble sort does not require additional space (it can run over the same input array, *in-place*), while our implementation of merge sort required $O(N)$ units of additional memory."
   ]
  },
  {
   "cell_type": "markdown",
   "metadata": {
    "slideshow": {
     "slide_type": "slide"
    }
   },
   "source": [
    "# Data structures"
   ]
  },
  {
   "cell_type": "markdown",
   "metadata": {
    "slideshow": {
     "slide_type": "slide"
    }
   },
   "source": [
    "Usually what we mean is: an abstract description of the data type. E.g., the stuff that keeps an ordered list of $N$ elements, requires $O(N)$ space, and supports:\n",
    "- `access`($i$) -- accesses the $i$-th element, in $O(1)$ time;\n",
    "- `modify`($i,e$) -- sets the $i$-th element to $e$, in $O(1)$ time;\n",
    "- `delete`($i$) -- deletes the $i$-th element, in $O(N)$ time,\n",
    "- `insert`($i,e$) -- inserts the element $e$ after position $i$, in $O(N)$ time.\n",
    "\n",
    "Which is ... ?"
   ]
  },
  {
   "cell_type": "code",
   "execution_count": 27,
   "metadata": {
    "slideshow": {
     "slide_type": "fragment"
    }
   },
   "outputs": [
    {
     "name": "stdout",
     "output_type": "stream",
     "text": [
      "A[2]=el-3\n",
      "now A[2]=el-E\n"
     ]
    }
   ],
   "source": [
    "# well, yes\n",
    "A = np.array([\"el-1\",\"el-2\",\"el-3\",\"el-4\",\"el-5\"])\n",
    "print(f\"A[2]={A[2]}\")\n",
    "\n",
    "A[2] = \"el-E\"\n",
    "print(f\"now A[2]={A[2]}\")"
   ]
  },
  {
   "cell_type": "markdown",
   "metadata": {
    "slideshow": {
     "slide_type": "slide"
    }
   },
   "source": [
    "What if I wanted to insert often (say, within a loop), after the last element -- but would be okay with compromising on the `access` runtime? \n",
    "\n",
    "Enter **linked lists**. You can implement a data structure where each element would keep a pointer to the next one. It is kind of easy in Python:"
   ]
  },
  {
   "cell_type": "code",
   "execution_count": 28,
   "metadata": {
    "slideshow": {
     "slide_type": "fragment"
    }
   },
   "outputs": [],
   "source": [
    "class MyNode:\n",
    "    def __init__(self, data, next_node):\n",
    "        self.my_data = data\n",
    "        self.next_node = next_node\n",
    "        \n",
    "    def find(self, what):\n",
    "        if self.my_data == what:\n",
    "            return self\n",
    "        else:\n",
    "            if self.next_node is None:\n",
    "                return None\n",
    "            else:\n",
    "                return self.next_node.find(what)\n",
    "\n",
    "    def __str__(self):\n",
    "        return self.my_data\n",
    "\n",
    "class MyLinkedList:\n",
    "    def __init__(self, root_data):\n",
    "        self.root = MyNode(data = root_data, next_node = None)\n",
    "        self.last = self.root\n",
    "        \n",
    "    def find(self, what):\n",
    "        return self.root.find(what)\n",
    "    \n",
    "    def append(self, with_what):\n",
    "        self.last.next_node = MyNode(with_what, next_node = None)\n",
    "        self.last = self.last.next_node"
   ]
  },
  {
   "cell_type": "code",
   "execution_count": 29,
   "metadata": {
    "slideshow": {
     "slide_type": "slide"
    }
   },
   "outputs": [
    {
     "name": "stdout",
     "output_type": "stream",
     "text": [
      "Finding 'Next el 1': Next el 1\n",
      "Finding 'Next el 3': None\n"
     ]
    }
   ],
   "source": [
    "# let's test it\n",
    "my_list = MyLinkedList(\"I am root\")\n",
    "my_list.append(\"Next el 1\")\n",
    "my_list.append(\"Next el 2\")\n",
    "\n",
    "print(\"Finding 'Next el 1': {}\".format(my_list.find(\"Next el 1\")))\n",
    "print(\"Finding 'Next el 3': {}\".format(my_list.find(\"Next el 3\")))"
   ]
  },
  {
   "cell_type": "markdown",
   "metadata": {
    "slideshow": {
     "slide_type": "slide"
    }
   },
   "source": [
    "Okay, so what's up with runtime?"
   ]
  },
  {
   "cell_type": "code",
   "execution_count": 30,
   "metadata": {
    "slideshow": {
     "slide_type": "fragment"
    }
   },
   "outputs": [],
   "source": [
    "from time import time\n",
    "\n",
    "my_list = MyLinkedList(\"I am root\")\n",
    "\n",
    "runtimes = []\n",
    "for i in range(1000):\n",
    "    t0 = time()\n",
    "    for k in range(10):\n",
    "        my_list.append(\"new element\")\n",
    "    t1 = time()\n",
    "    runtimes.append(t1 - t0)"
   ]
  },
  {
   "cell_type": "code",
   "execution_count": 31,
   "metadata": {
    "slideshow": {
     "slide_type": "fragment"
    }
   },
   "outputs": [
    {
     "data": {
      "text/plain": [
       "[<matplotlib.lines.Line2D at 0x7f8ac5c9c290>]"
      ]
     },
     "execution_count": 31,
     "metadata": {},
     "output_type": "execute_result"
    },
    {
     "data": {
      "image/png": "[encoded data removed]",
      "text/plain": [
       "<Figure size 432x288 with 1 Axes>"
      ]
     },
     "metadata": {
      "needs_background": "light"
     },
     "output_type": "display_data"
    }
   ],
   "source": [
    "import matplotlib.pyplot as plt\n",
    "plt.plot(runtimes)"
   ]
  },
  {
   "cell_type": "markdown",
   "metadata": {
    "slideshow": {
     "slide_type": "slide"
    }
   },
   "source": [
    "Okay, final example: assume you want a *dictionary* (and you do, quite often!). That is, have $N$ strings mapped to some interesting data, to have the ability to find them quickly.\n",
    "\n",
    "How to implement it?\n",
    "- naive way: just check all $N$ elements to find *the* one.\n",
    "- a better way... ?"
   ]
  },
  {
   "cell_type": "markdown",
   "metadata": {
    "slideshow": {
     "slide_type": "fragment"
    }
   },
   "source": [
    "of course, sort them alphabetically! So, spend $O(N\\log N)$-ish time once, and then enjoy... like $O(\\log N)$ access time, if you split it in halves every time! \n",
    "\n",
    "No, seriously: for $N=$ 1,000,000 words, naive find checks, well, 1,000,000 elements. While the smarter implementation -- no more than:"
   ]
  },
  {
   "cell_type": "code",
   "execution_count": 32,
   "metadata": {
    "slideshow": {
     "slide_type": "fragment"
    }
   },
   "outputs": [
    {
     "data": {
      "text/plain": [
       "20"
      ]
     },
     "execution_count": 32,
     "metadata": {},
     "output_type": "execute_result"
    }
   ],
   "source": [
    "from math import log2\n",
    "round(log2(1000000))"
   ]
  },
  {
   "cell_type": "markdown",
   "metadata": {
    "slideshow": {
     "slide_type": "slide"
    }
   },
   "source": [
    "Okay, let's consider a simpler example -- assume I just want to accumulate stuff..."
   ]
  },
  {
   "cell_type": "code",
   "execution_count": 33,
   "metadata": {
    "slideshow": {
     "slide_type": "slide"
    }
   },
   "outputs": [],
   "source": [
    "D = []\n",
    "runtimes = []\n",
    "for i in range(1000):\n",
    "    t0 = time()\n",
    "    for k in range(10):\n",
    "        D = D + [\"i={}, k={}\".format(i,k)]\n",
    "    t1 = time()\n",
    "    runtimes.append(t1-t0)"
   ]
  },
  {
   "cell_type": "code",
   "execution_count": 34,
   "metadata": {
    "scrolled": true,
    "slideshow": {
     "slide_type": "slide"
    }
   },
   "outputs": [
    {
     "data": {
      "text/plain": [
       "[<matplotlib.lines.Line2D at 0x7f8ac5ba3210>]"
      ]
     },
     "execution_count": 34,
     "metadata": {},
     "output_type": "execute_result"
    },
    {
     "data": {
      "image/png": "[encoded data removed]",
      "text/plain": [
       "<Figure size 432x288 with 1 Axes>"
      ]
     },
     "metadata": {
      "needs_background": "light"
     },
     "output_type": "display_data"
    }
   ],
   "source": [
    "plt.plot(runtimes)"
   ]
  },
  {
   "cell_type": "markdown",
   "metadata": {
    "slideshow": {
     "slide_type": "fragment"
    }
   },
   "source": [
    "Yup, everyone knows it is linear, right? This seems logical: we'd need to re-allocate the memory for the whole array (potentially), etc. And we have some troubles in getting the elements back ($O(N)$-ish time)...\n",
    "\n",
    "Let's see, though, what the Python's built-in `dictionary` class (see the [docs](https://docs.python.org/3/tutorial/datastructures.html#dictionaries) for more info) has to offer:"
   ]
  },
  {
   "cell_type": "code",
   "execution_count": 35,
   "metadata": {
    "slideshow": {
     "slide_type": "slide"
    }
   },
   "outputs": [],
   "source": [
    "D = dict()\n",
    "runtimes = []\n",
    "for i in range(1000):\n",
    "    t0 = time()\n",
    "    for k in range(10):\n",
    "        D[\"{}/{}\".format(i,k)] = \"i={}, k={}\".format(i,k)\n",
    "    t1 = time()\n",
    "    runtimes.append(t1-t0)"
   ]
  },
  {
   "cell_type": "code",
   "execution_count": 36,
   "metadata": {
    "slideshow": {
     "slide_type": "slide"
    }
   },
   "outputs": [
    {
     "data": {
      "text/plain": [
       "[<matplotlib.lines.Line2D at 0x7f8ac5ab2310>]"
      ]
     },
     "execution_count": 36,
     "metadata": {},
     "output_type": "execute_result"
    },
    {
     "data": {
      "image/png": "[encoded data removed]",
      "text/plain": [
       "<Figure size 432x288 with 1 Axes>"
      ]
     },
     "metadata": {
      "needs_background": "light"
     },
     "output_type": "display_data"
    }
   ],
   "source": [
    "plt.plot(runtimes)"
   ]
  },
  {
   "cell_type": "markdown",
   "metadata": {
    "slideshow": {
     "slide_type": "fragment"
    }
   },
   "source": [
    "Wait, whaaat?! Why?! What's the... ?!\n",
    "\n",
    "Indeed, it is constant-time access. $O(1)$. Kinda instantaneous."
   ]
  },
  {
   "cell_type": "markdown",
   "metadata": {
    "slideshow": {
     "slide_type": "slide"
    }
   },
   "source": [
    "And the answer is -- as usual in CS -- black magic. Google \"hash tables\" if interested. Note, though, it is not a beginner material. You might be better served by a textbook. \n",
    "\n",
    "**PROTIP:** To use it, you don't really need to understand deeply what's going on under the hood."
   ]
  },
  {
   "cell_type": "markdown",
   "metadata": {
    "slideshow": {
     "slide_type": "slide"
    }
   },
   "source": [
    "# Take-aways\n",
    "- (Some) algorithms are cool\n",
    "- They can (and should) be analyzed in a systematic, scientific way\n",
    "- They are quite often characterized by runtime, space requirements, and correctness (obviously).\n",
    "- Another important characteristic, which is slightly outside the scope if this talk, is whether it can use several parallel processes.\n",
    "- Asymptotic runtime: $O(\\cdot)$ (and Co.) notations describe how does the runtime grow as the problem size increases. \n",
    "- Sometimes we discuss best-case, worst-case, and average performance.\n",
    "- Cool algorithms are numerous, and it is quite possible that there is one for your (arbitrary) problem at hand.\n",
    "- Standard libraries are your friends (`numpy`, `sklearn`, etc. -- if we talk Python)\n",
    "- If you are into *designing* (or understanding) algorithms, you'll need to get familiar with basic data structures. A good data structure is a game-changer. But this is a whole separate topic... Just make sure you know there is \"dictionary\"/hash table and binary search tree / heap out there (not necessarily how it works -- just what it does)."
   ]
  },
  {
   "cell_type": "markdown",
   "metadata": {
    "slideshow": {
     "slide_type": "slide"
    }
   },
   "source": [
    "## The main part of the session: further reading\n",
    "- [GeeksForGeeks](https://www.geeksforgeeks.org/), Wikipedia, etc. are quite good, sometimes.\n",
    "- Docs for specific libraries (e.g., see sorting in [numpy docs](https://numpy.org/doc/stable/reference/generated/numpy.sort.html))\n",
    "- There are some good \"light\" introductory textbooks:\n",
    "    + Skiena \"Algorithm Design Manual\"\n",
    "    + Kleinberg and Tardos, \"Algorithm Design\"\n",
    "- If you feel the need to practice, there are some good online courses out there. For example, Coursera:\n",
    "    + [Analysis of Algorithms](https://www.coursera.org/learn/analysis-of-algorithms) from Princeton (by Dr. Sedgewick) -- some practice in Java.\n",
    "    + [Algorithms specialization](https://www.coursera.org/specializations/algorithms) from Stanford -- this one might be math-heavy and more on the theoretical side.\n",
    "    + there are more -- google, check reviews, try several, pick the one that you like.\n",
    "    + might be a good idea to start one, go through the intro (but not necessarily finish).\n",
    "- If you feel like watching some videos, I might recommend the MiT OCW  [6.006 \"Intro to Algorithms\"](https://ocw.mit.edu/courses/electrical-engineering-and-computer-science/6-006-introduction-to-algorithms-fall-2011/) course\n",
    "- there are some more classic CS textbooks, which I would **not** recommend as an intro (you can google yourself as needed -- e.g., CLRS or Sedgewick's \"Algorithms\" books). That would be a little too dense for starters.\n",
    "- **the ultimate thing:** TAOCP (just google \"is TAOCP worth reading\" or check an [HN question](https://news.ycombinator.com/item?id=10897460). It seems to be kind of popular discussion topic among CS people :) )"
   ]
  }
 ],
 "metadata": {
  "celltoolbar": "Slideshow",
  "kernelspec": {
   "display_name": "Python 3",
   "language": "python",
   "name": "python3"
  },
  "language_info": {
   "codemirror_mode": {
    "name": "ipython",
    "version": 3
   },
   "file_extension": ".py",
   "mimetype": "text/x-python",
   "name": "python",
   "nbconvert_exporter": "python",
   "pygments_lexer": "ipython3",
   "version": "3.7.6"
  },
  "latex_envs": {
   "LaTeX_envs_menu_present": true,
   "autoclose": false,
   "autocomplete": true,
   "bibliofile": "biblio.bib",
   "cite_by": "apalike",
   "current_citInitial": 1,
   "eqLabelWithNumbers": true,
   "eqNumInitial": 1,
   "hotkeys": {
    "equation": "Ctrl-E",
    "itemize": "Ctrl-I"
   },
   "labels_anchors": false,
   "latex_user_defs": false,
   "report_style_numbering": false,
   "user_envs_cfg": false
  },
  "toc": {
   "base_numbering": 1,
   "nav_menu": {
    "height": "110px",
    "width": "437px"
   },
   "number_sections": true,
   "sideBar": true,
   "skip_h1_title": false,
   "title_cell": "Table of Contents",
   "title_sidebar": "Contents",
   "toc_cell": false,
   "toc_position": {},
   "toc_section_display": true,
   "toc_window_display": false
  }
 },
 "nbformat": 4,
 "nbformat_minor": 4
}
