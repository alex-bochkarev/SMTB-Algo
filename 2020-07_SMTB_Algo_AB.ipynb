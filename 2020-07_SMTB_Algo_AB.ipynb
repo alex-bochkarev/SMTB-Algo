{
 "cells": [
  {
   "cell_type": "markdown",
   "metadata": {
    "slideshow": {
     "slide_type": "slide"
    }
   },
   "source": [
    "# Technical: How to open this notebook <a class=\"tocSkip\">\n",
    "- You can always open it in `nbviewer` online, by clicking [here](https://nbviewer.jupyter.org/github/alex-bochkarev/SMTB-Algo/blob/master/2020-07_SMTB_Algo_AB.ipynb) -- read-only\n",
    "- If you have a Google account (which is free), you can\n",
    "[![Open it in Colab](https://colab.research.google.com/assets/colab-badge.svg)](https://colab.research.google.com/github/alex-bochkarev/SMTB-Algo/blob/master/2020-07_SMTB_Algo_AB.ipynb)\n",
    "\n",
    "(You'd need to copy it to your Drive to be able to experiment and save your changes)\n",
    "- If for any reason you'd prefer to run it locally, you can [clone](https://docs.github.com/en/github/creating-cloning-and-archiving-repositories/cloning-a-repository) (or just [download](https://github.com/alex-bochkarev/SMTB-Algo/archive/master.zip)) the [repo](https://github.com/alex-bochkarev/SMTB-Algo) and open the `.ipynb` file. You'd need Python 3 along with the following packages: `numpy`,`matplotlib`, `seaborn`, and `pandas` (almost surely you already have these). \n",
    "- Anyways, if you miss something and use `conda` (which you hopefully do) -- just `conda install <what-is-missing>`.\n",
    "- **YOUR COMMENTS AND FEEDBACK ARE VERY WELCOME!**\n",
    "\n",
    "**Note:** The presentation was made from this very notebook (using [RISE](https://rise.readthedocs.io/en/stable/) extension from time to time to produce [Reveal.js](https://revealjs.com/) slides)"
   ]
  },
  {
   "cell_type": "code",
   "execution_count": 1,
   "metadata": {
    "slideshow": {
     "slide_type": "fragment"
    }
   },
   "outputs": [],
   "source": [
    "# import some libraries first\n",
    "import numpy as np # numbers/arrays manipulation\n",
    "from time import time # to check runtimes\n",
    "import pandas as pd # data/tables manipulation\n",
    "from math import log, log2\n",
    "# now, some graphics\n",
    "import matplotlib.pyplot as plt\n",
    "import seaborn as sns\n",
    "%matplotlib inline"
   ]
  },
  {
   "cell_type": "markdown",
   "metadata": {
    "slideshow": {
     "slide_type": "slide"
    }
   },
   "source": [
    "# Some key concepts about algorithms (in general) <a class=\"tocSkip\">\n",
    "<br><br><br>\n",
    "\n",
    "<div style=\"text-align: right\"> <em>Alexey Bochkarev, 2020, a [at] bochkarev (dot) io </em></div>"
   ]
  },
  {
   "cell_type": "markdown",
   "metadata": {
    "slideshow": {
     "slide_type": "slide"
    }
   },
   "source": [
    "# An outline <a class=\"tocSkip\">\n",
    "- An algorithm = a recipe\n",
    "- Several **parameters** to keep an eye on: \n",
    "    + runtime/types of runtime / $O(\\cdot)$ notation / etc.\n",
    "    + space requirements\n",
    "- \"Hard\" problems, exact algos and heuristics.\n",
    "- A note on **data structures**\n",
    "- **the main part of the session:** conclusions + further reading/learning"
   ]
  },
  {
   "cell_type": "markdown",
   "metadata": {
    "slideshow": {
     "slide_type": "slide"
    }
   },
   "source": [
    "# The main goal <a class=\"tocSkip\">\n",
    "    \n",
    "- To *mention* some key definitions and \"buzzwords\", \n",
    "- To provide a first glimpse on the structure of the material out there. **(not a substitute to a proper CS course)**\n",
    "- So you could learn more if needed, and know what to google.\n",
    "    \n",
    "**Why bother?**\n",
    "- to create / implement algorithms\n",
    "- to understand what is going on in a paper\n",
    "- to understand what is possible (or not), and what to use for your problem at hand\n",
    "    \n",
    "**Prereqs:** ability to read (pseudo-)code -- we will use Python 3 now."
   ]
  },
  {
   "cell_type": "markdown",
   "metadata": {
    "slideshow": {
     "slide_type": "slide"
    }
   },
   "source": [
    "# Algorithms"
   ]
  },
  {
   "cell_type": "markdown",
   "metadata": {
    "slideshow": {
     "slide_type": "subslide"
    }
   },
   "source": [
    "## What is an algorithm?\n",
    "Well, a recipe. Not good as a strict definition, but as put by [The Economist](https://www.economist.com/the-economist-explains/2017/08/29/what-are-algorithms),\n",
    "\n",
    "*An algorithm is, essentially, a brainless way of doing clever things.*\n",
    "\n",
    "A clear, step-by-step instructions manual, how to acheive something specific. Like, \n",
    "- get to the bus stop from some specific point, \n",
    "- sort an array of $N$ numbers, or\n",
    "- assemble the original genome sequence from a smaller, potentially overlapping pieces. \n",
    "- ...and so on.\n",
    "\n",
    "(Without too vague instructions.)\n",
    "\n",
    "Not a big deal, so far..."
   ]
  },
  {
   "cell_type": "markdown",
   "metadata": {
    "slideshow": {
     "slide_type": "subslide"
    }
   },
   "source": [
    "**Note:** algorithm $\\neq$ computer program. The former are abstract solution procedures, while the latter are their implementations in some specific programming language.\n",
    "\n",
    "We will talk about **algorithms** today -- but we'll consider some specific examples of programs too. I suppose, it will be a little easier this way."
   ]
  },
  {
   "cell_type": "markdown",
   "metadata": {
    "slideshow": {
     "slide_type": "subslide"
    }
   },
   "source": [
    "### Let's use sorting <a class=\"tocSkip\">\n",
    "**INPUT:**   an array of some fixed length, $N$. Say, integer numbers<br>\n",
    "**OUTPUT:**  a sorted version of the same array (each next number is larger than the previous one).\n",
    "    \n",
    "For example, [4,6,1,3,2,5,7] $\\rightarrow$ [1,2,3,4,5,6,7]. Obviously, there are many ways to approach the problem."
   ]
  },
  {
   "cell_type": "code",
   "execution_count": 2,
   "metadata": {
    "slideshow": {
     "slide_type": "fragment"
    }
   },
   "outputs": [],
   "source": [
    "def bubble_sort(input_array):\n",
    "    \"\"\"Sorts the `input_array` with Bubble sort algorithm    \n",
    "    (see https://en.wikipedia.org/wiki/Bubble_sort for more info)\n",
    "    \n",
    "    Returns sorted array\n",
    "    \"\"\"\n",
    "    \n",
    "    done = False\n",
    "    N = len(input_array)\n",
    "    out_array = input_array\n",
    "    while not done:\n",
    "        done = True\n",
    "        for i in range(N-1):\n",
    "            if out_array[i] > out_array[i+1]:\n",
    "                n_i = out_array[i]\n",
    "                n_i_plus_1 = out_array[i+1]\n",
    "                out_array[i] = n_i_plus_1\n",
    "                out_array[i+1] = n_i\n",
    "                done = False\n",
    "                \n",
    "    return out_array"
   ]
  },
  {
   "cell_type": "code",
   "execution_count": 3,
   "metadata": {
    "scrolled": true,
    "slideshow": {
     "slide_type": "fragment"
    }
   },
   "outputs": [
    {
     "data": {
      "text/plain": [
       "[1, 2, 3, 4, 5, 6, 7]"
      ]
     },
     "execution_count": 3,
     "metadata": {},
     "output_type": "execute_result"
    }
   ],
   "source": [
    "bubble_sort([4,6,1,3,2,5,7])"
   ]
  },
  {
   "cell_type": "code",
   "execution_count": 4,
   "metadata": {
    "slideshow": {
     "slide_type": "fragment"
    }
   },
   "outputs": [
    {
     "data": {
      "text/plain": [
       "[1, 2, 4, 6, 7]"
      ]
     },
     "execution_count": 4,
     "metadata": {},
     "output_type": "execute_result"
    }
   ],
   "source": [
    "bubble_sort([6,4,7,1,2])"
   ]
  },
  {
   "cell_type": "markdown",
   "metadata": {
    "slideshow": {
     "slide_type": "subslide"
    }
   },
   "source": [
    "### Is it the only option, though? <a class=\"tocSkip\">\n",
    "(also see the mandatory [xkcd](https://xkcd.com/1185/); don't try to run at home :))"
   ]
  },
  {
   "cell_type": "code",
   "execution_count": 5,
   "metadata": {
    "slideshow": {
     "slide_type": "fragment"
    }
   },
   "outputs": [],
   "source": [
    "def panic_sort(input_array):\n",
    "    \"\"\"Sorts `input_array` with a famous (although, non-existent)\n",
    "    panic sort algorithm\n",
    "    \n",
    "    Returns \"sorted\" array.\n",
    "    \"\"\"\n",
    "    np.random.seed(1234)\n",
    "    \n",
    "    output_array = input_array # uh, okay, let's start somewhere\n",
    "    \n",
    "    for i in range(1000):\n",
    "        output_array = np.random.permutation(output_array) ## come on, come on!..\n",
    "        \n",
    "    return output_array"
   ]
  },
  {
   "cell_type": "code",
   "execution_count": 6,
   "metadata": {
    "slideshow": {
     "slide_type": "fragment"
    }
   },
   "outputs": [
    {
     "data": {
      "text/plain": [
       "array([ 1,  2,  3,  4,  5,  6,  7,  8,  9, 10])"
      ]
     },
     "execution_count": 6,
     "metadata": {},
     "output_type": "execute_result"
    }
   ],
   "source": [
    "A = [3,7,9,8,6,2,5,1,10,4]\n",
    "panic_sort(A)"
   ]
  },
  {
   "cell_type": "markdown",
   "metadata": {
    "slideshow": {
     "slide_type": "subslide"
    }
   },
   "source": [
    "### or (this one is tricky): <a class=\"tocSkip\">"
   ]
  },
  {
   "cell_type": "code",
   "execution_count": 7,
   "metadata": {
    "slideshow": {
     "slide_type": "fragment"
    }
   },
   "outputs": [],
   "source": [
    "def real_quick_sort(input_array):\n",
    "    \"\"\"*Kinda* sorts `input_array` by returning consecutive numbers 1,..,N\n",
    "    (where N is the length of `input_array`)\n",
    "    \"\"\"\n",
    "    \n",
    "    N = len(input_array)\n",
    "    \n",
    "    return(\n",
    "        [i+1 for i in range(N)]\n",
    "    )"
   ]
  },
  {
   "cell_type": "code",
   "execution_count": 8,
   "metadata": {
    "slideshow": {
     "slide_type": "fragment"
    }
   },
   "outputs": [
    {
     "data": {
      "text/plain": [
       "[1, 2, 3, 4, 5]"
      ]
     },
     "execution_count": 8,
     "metadata": {},
     "output_type": "execute_result"
    }
   ],
   "source": [
    "real_quick_sort([1,5,4,2,3])"
   ]
  },
  {
   "cell_type": "code",
   "execution_count": 9,
   "metadata": {
    "scrolled": true,
    "slideshow": {
     "slide_type": "fragment"
    }
   },
   "outputs": [
    {
     "data": {
      "text/plain": [
       "[1, 2, 3, 4, 5, 6, 7]"
      ]
     },
     "execution_count": 9,
     "metadata": {},
     "output_type": "execute_result"
    }
   ],
   "source": [
    "real_quick_sort([4,6,1,3,2,5,7])"
   ]
  },
  {
   "cell_type": "markdown",
   "metadata": {
    "slideshow": {
     "slide_type": "subslide"
    }
   },
   "source": [
    "### Another approach: merge sort <a class=\"tocSkip\">"
   ]
  },
  {
   "cell_type": "markdown",
   "metadata": {
    "slideshow": {
     "slide_type": "fragment"
    }
   },
   "source": [
    "Imagine an array, split it into two halves.What would happen if we had some magic function that would sort each half? We would have ended up with this:\n",
    "\n",
    "![halfsorted](img/merge_sort.png)\n",
    "\n",
    "Now, we could easily merge these two into a sorted array: just use two pointers `i left` and `i right`. Scan left to right, picking the smallest one and increasing pointers as necessary."
   ]
  },
  {
   "cell_type": "markdown",
   "metadata": {
    "slideshow": {
     "slide_type": "subslide"
    }
   },
   "source": [
    "Let us just fix this in the code, while we are at it:"
   ]
  },
  {
   "cell_type": "code",
   "execution_count": 10,
   "metadata": {
    "slideshow": {
     "slide_type": "fragment"
    }
   },
   "outputs": [],
   "source": [
    "# the only slightly tricky part here is\n",
    "# handling edge cases\n",
    "\n",
    "def merge(left, right):\n",
    "    \"\"\"Merges arrays `left` and `right` into a single sorted (!) array\n",
    "    **ASSUMING** that `left` and `right` were sorted before the call.\n",
    "    \n",
    "    Returns sorted array constructed from `left` and `right`\n",
    "    \"\"\"\n",
    "    \n",
    "    result = []\n",
    "    i_left = 0; i_right = 0\n",
    "    while len(result) < len(left) + len(right):\n",
    "        if i_left == len(left):\n",
    "            if i_right < len(right):                \n",
    "                result.append(right[i_right])\n",
    "                i_right += 1\n",
    "        else:\n",
    "            if i_right == len(right):\n",
    "                result.append(left[i_left])\n",
    "                i_left += 1\n",
    "            else:\n",
    "                result.append(min(right[i_right], left[i_left]))\n",
    "                if right[i_right] < left[i_left]:\n",
    "                    i_right += 1\n",
    "                else:\n",
    "                    i_left += 1\n",
    "    return result"
   ]
  },
  {
   "cell_type": "code",
   "execution_count": 11,
   "metadata": {
    "slideshow": {
     "slide_type": "fragment"
    }
   },
   "outputs": [
    {
     "data": {
      "text/plain": [
       "[1, 2, 3, 4, 5, 6, 7]"
      ]
     },
     "execution_count": 11,
     "metadata": {},
     "output_type": "execute_result"
    }
   ],
   "source": [
    "merge([1,3,5,7],[2,4,6])"
   ]
  },
  {
   "cell_type": "markdown",
   "metadata": {
    "slideshow": {
     "slide_type": "subslide"
    }
   },
   "source": [
    "OK, you might say, but we don't have any \"magic function\", do we?\n",
    "\n",
    "Let's just cheat now, and pretend we do. This is best explained by code right away, perhaps:"
   ]
  },
  {
   "cell_type": "code",
   "execution_count": 12,
   "metadata": {
    "slideshow": {
     "slide_type": "fragment"
    }
   },
   "outputs": [],
   "source": [
    "def merge_sort(input_array):\n",
    "    \"\"\"Sorts `input_array` with merge sort\n",
    "    (see, e.g., https://www.geeksforgeeks.org/merge-sort/ for quick description,\n",
    "    or Wiki)\n",
    "    \n",
    "    Returns sorted array\n",
    "    \"\"\"\n",
    "    result = []\n",
    "\n",
    "    N = len(input_array)\n",
    "    if N == 1:\n",
    "        return input_array # nothing to sort\n",
    "    \n",
    "    m = N // 2 # find the middle\n",
    "    left = input_array[:m]\n",
    "    right = input_array[m:]\n",
    "    \n",
    "    # here is the magic\n",
    "    left = merge_sort(left)\n",
    "    right = merge_sort(right)\n",
    "    \n",
    "    return merge(left, right)"
   ]
  },
  {
   "cell_type": "code",
   "execution_count": 13,
   "metadata": {
    "slideshow": {
     "slide_type": "fragment"
    }
   },
   "outputs": [
    {
     "data": {
      "text/plain": [
       "[1, 2, 3, 4, 5, 6, 7]"
      ]
     },
     "execution_count": 13,
     "metadata": {},
     "output_type": "execute_result"
    }
   ],
   "source": [
    "# In case you were hesitating:\n",
    "merge_sort([4,6,1,3,2,5,7])"
   ]
  },
  {
   "cell_type": "markdown",
   "metadata": {
    "slideshow": {
     "slide_type": "slide"
    }
   },
   "source": [
    "## Typical characteristics\n",
    "- does it result in a desirable outcome? **(correctness)**\n",
    "- how fast is it? **(runtime)**\n",
    "- how much memory does it take? **(space/memory requirement)**"
   ]
  },
  {
   "cell_type": "markdown",
   "metadata": {
    "slideshow": {
     "slide_type": "subslide"
    }
   },
   "source": [
    "### Ok, let's start with correctness\n",
    "Let's prepare a tiny testing unit to check if our algorithms work. It won't guarantee anything, but would *suggest* that we haven't screwed up anywhere."
   ]
  },
  {
   "cell_type": "code",
   "execution_count": 14,
   "metadata": {
    "slideshow": {
     "slide_type": "subslide"
    }
   },
   "outputs": [],
   "source": [
    "def get_consec_instance(N):\n",
    "    \"\"\"Generates a test instance of length `N`\n",
    "    How: creates a random permutation of consecutive\n",
    "    integers 1, ..., N.\n",
    "    \n",
    "    Returns: sorted array and unsorted array\n",
    "    \"\"\"\n",
    "    \n",
    "    input_sorted = [i+1 for i in range(N)] # generate a sequence of numbers\n",
    "    \n",
    "    rng = np.random.default_rng() # initialize a random number generator\n",
    "    input_unsorted = rng.permutation(input_sorted)\n",
    "    return input_sorted, input_unsorted\n",
    "\n",
    "def get_rnd_instance(N):\n",
    "    \"\"\"Generates a test instance of length `N`\n",
    "    HOW: creates a sorted array first (by adding random numbers consecutively),\n",
    "    then returns a random permutation of the sorted array.\n",
    "    \n",
    "    \n",
    "    Returns: sorted array and unsorted array\n",
    "    \"\"\"\n",
    "    \n",
    "    input_sorted = [0 for i in range(N)]\n",
    "    \n",
    "    rng = np.random.default_rng()\n",
    "    input_sorted[0] = rng.integers(low=0, high=N)\n",
    "    \n",
    "    for i in range(1,N):\n",
    "        input_sorted[i] = input_sorted[i-1] + rng.integers(low=0, high=N)\n",
    "        \n",
    "    input_unsorted = rng.permutation(input_sorted)\n",
    "\n",
    "    return input_sorted, input_unsorted"
   ]
  },
  {
   "cell_type": "code",
   "execution_count": 21,
   "metadata": {
    "slideshow": {
     "slide_type": "subslide"
    }
   },
   "outputs": [
    {
     "data": {
      "text/plain": [
       "([1, 2, 3, 4, 5, 6, 7, 8, 9, 10],\n",
       " array([ 6,  4,  1,  7, 10,  3,  8,  5,  2,  9]))"
      ]
     },
     "execution_count": 21,
     "metadata": {},
     "output_type": "execute_result"
    }
   ],
   "source": [
    "get_consec_instance(10)"
   ]
  },
  {
   "cell_type": "code",
   "execution_count": 25,
   "metadata": {
    "slideshow": {
     "slide_type": "fragment"
    }
   },
   "outputs": [
    {
     "data": {
      "text/plain": [
       "([8, 13, 15, 18, 19, 27, 29, 37, 37, 41],\n",
       " array([37, 15, 18, 13, 41, 37, 27,  8, 19, 29]))"
      ]
     },
     "execution_count": 25,
     "metadata": {},
     "output_type": "execute_result"
    }
   ],
   "source": [
    "get_rnd_instance(10)"
   ]
  },
  {
   "cell_type": "code",
   "execution_count": 26,
   "metadata": {
    "slideshow": {
     "slide_type": "subslide"
    }
   },
   "outputs": [],
   "source": [
    "def test_algo(label, sort_function, instances_list):\n",
    "    \"\"\"Tests given algorithm against a set of instances\n",
    "    Input:\n",
    "        `label`          -- algorithm label to print (string)\n",
    "        `sort_function`  -- algorithm implementation (function)\n",
    "        `instances_list` -- a list of instances, each element represents \n",
    "                            a pair of versions (sorted, unsorted)\n",
    "    \n",
    "    Returns: nothing. Prints summary to the screen. For each instance:\n",
    "        a dot (.) if successful, instance summary if not.\n",
    "    \"\"\"\n",
    "    \n",
    "    print(\"Testing algo: `{}`\".format(label))\n",
    "\n",
    "    n_failed = 0\n",
    "    for instance in instances_list:\n",
    "        arr_sorted, arr_unsorted = instance\n",
    "        out = sort_function(arr_unsorted)\n",
    "        if np.all(out == arr_sorted):\n",
    "            print(\".\", end=\"\")\n",
    "        else:\n",
    "            print(f\"\\nFAIL: expected {arr_sorted}, returned {out}\", end=\"\")\n",
    "            n_failed += 1\n",
    "    print(f\"\\ndone. FAILS: {n_failed} out of {len(instances_list)}\")"
   ]
  },
  {
   "cell_type": "markdown",
   "metadata": {
    "slideshow": {
     "slide_type": "subslide"
    }
   },
   "source": [
    "OK, let's see if our algorithms work:"
   ]
  },
  {
   "cell_type": "code",
   "execution_count": 27,
   "metadata": {
    "scrolled": true,
    "slideshow": {
     "slide_type": "subslide"
    }
   },
   "outputs": [
    {
     "name": "stdout",
     "output_type": "stream",
     "text": [
      "==================================================\n",
      "Testing algo: `Bubble sort`\n",
      "....................................................................................................\n",
      "done. FAILS: 0 out of 100\n",
      "==================================================\n",
      "Testing algo: `Merge sort`\n",
      "....................................................................................................\n",
      "done. FAILS: 0 out of 100\n",
      "==================================================\n",
      "Testing algo: `Panic sort`\n",
      "\n",
      "FAIL: expected [1, 2, 3, 4, 5, 6, 7, 8, 9, 10], returned [ 8  6  1 10  7  5  2  4  3  9]\n",
      "FAIL: expected [1, 2, 3, 4, 5, 6, 7, 8, 9, 10], returned [ 8  6  1 10  7  5  2  4  3  9]\n",
      "FAIL: expected [1, 2, 3, 4, 5, 6, 7, 8, 9, 10], returned [ 8  6  1 10  7  5  2  4  3  9]\n",
      "FAIL: expected [1, 2, 3, 4, 5, 6, 7, 8, 9, 10], returned [ 8  6  1 10  7  5  2  4  3  9]\n",
      "FAIL: expected [1, 2, 3, 4, 5, 6, 7, 8, 9, 10], returned [ 8  6  1 10  7  5  2  4  3  9]\n",
      "FAIL: expected [1, 2, 3, 4, 5, 6, 7, 8, 9, 10], returned [ 8  6  1 10  7  5  2  4  3  9]\n",
      "FAIL: expected [1, 2, 3, 4, 5, 6, 7, 8, 9, 10], returned [ 8  6  1 10  7  5  2  4  3  9]\n",
      "FAIL: expected [1, 2, 3, 4, 5, 6, 7, 8, 9, 10], returned [ 8  6  1 10  7  5  2  4  3  9]\n",
      "FAIL: expected [1, 2, 3, 4, 5, 6, 7, 8, 9, 10], returned [ 8  6  1 10  7  5  2  4  3  9]\n",
      "FAIL: expected [1, 2, 3, 4, 5, 6, 7, 8, 9, 10], returned [ 8  6  1 10  7  5  2  4  3  9]\n",
      "FAIL: expected [1, 2, 3, 4, 5, 6, 7, 8, 9, 10], returned [ 8  6  1 10  7  5  2  4  3  9]\n",
      "FAIL: expected [1, 2, 3, 4, 5, 6, 7, 8, 9, 10], returned [ 8  6  1 10  7  5  2  4  3  9]\n",
      "FAIL: expected [1, 2, 3, 4, 5, 6, 7, 8, 9, 10], returned [ 8  6  1 10  7  5  2  4  3  9]\n",
      "FAIL: expected [1, 2, 3, 4, 5, 6, 7, 8, 9, 10], returned [ 8  6  1 10  7  5  2  4  3  9]\n",
      "FAIL: expected [1, 2, 3, 4, 5, 6, 7, 8, 9, 10], returned [ 8  6  1 10  7  5  2  4  3  9]\n",
      "FAIL: expected [1, 2, 3, 4, 5, 6, 7, 8, 9, 10], returned [ 8  6  1 10  7  5  2  4  3  9]\n",
      "FAIL: expected [1, 2, 3, 4, 5, 6, 7, 8, 9, 10], returned [ 8  6  1 10  7  5  2  4  3  9]\n",
      "FAIL: expected [1, 2, 3, 4, 5, 6, 7, 8, 9, 10], returned [ 8  6  1 10  7  5  2  4  3  9]\n",
      "FAIL: expected [1, 2, 3, 4, 5, 6, 7, 8, 9, 10], returned [ 8  6  1 10  7  5  2  4  3  9]\n",
      "FAIL: expected [1, 2, 3, 4, 5, 6, 7, 8, 9, 10], returned [ 8  6  1 10  7  5  2  4  3  9]\n",
      "FAIL: expected [1, 2, 3, 4, 5, 6, 7, 8, 9, 10], returned [ 8  6  1 10  7  5  2  4  3  9]\n",
      "FAIL: expected [1, 2, 3, 4, 5, 6, 7, 8, 9, 10], returned [ 8  6  1 10  7  5  2  4  3  9]\n",
      "FAIL: expected [1, 2, 3, 4, 5, 6, 7, 8, 9, 10], returned [ 8  6  1 10  7  5  2  4  3  9]\n",
      "FAIL: expected [1, 2, 3, 4, 5, 6, 7, 8, 9, 10], returned [ 8  6  1 10  7  5  2  4  3  9]\n",
      "FAIL: expected [1, 2, 3, 4, 5, 6, 7, 8, 9, 10], returned [ 8  6  1 10  7  5  2  4  3  9]\n",
      "FAIL: expected [1, 2, 3, 4, 5, 6, 7, 8, 9, 10], returned [ 8  6  1 10  7  5  2  4  3  9]\n",
      "FAIL: expected [1, 2, 3, 4, 5, 6, 7, 8, 9, 10], returned [ 8  6  1 10  7  5  2  4  3  9]\n",
      "FAIL: expected [1, 2, 3, 4, 5, 6, 7, 8, 9, 10], returned [ 8  6  1 10  7  5  2  4  3  9]\n",
      "FAIL: expected [1, 2, 3, 4, 5, 6, 7, 8, 9, 10], returned [ 8  6  1 10  7  5  2  4  3  9]\n",
      "FAIL: expected [1, 2, 3, 4, 5, 6, 7, 8, 9, 10], returned [ 8  6  1 10  7  5  2  4  3  9]\n",
      "FAIL: expected [1, 2, 3, 4, 5, 6, 7, 8, 9, 10], returned [ 8  6  1 10  7  5  2  4  3  9]\n",
      "FAIL: expected [1, 2, 3, 4, 5, 6, 7, 8, 9, 10], returned [ 8  6  1 10  7  5  2  4  3  9]\n",
      "FAIL: expected [1, 2, 3, 4, 5, 6, 7, 8, 9, 10], returned [ 8  6  1 10  7  5  2  4  3  9]\n",
      "FAIL: expected [1, 2, 3, 4, 5, 6, 7, 8, 9, 10], returned [ 8  6  1 10  7  5  2  4  3  9]\n",
      "FAIL: expected [1, 2, 3, 4, 5, 6, 7, 8, 9, 10], returned [ 8  6  1 10  7  5  2  4  3  9]\n",
      "FAIL: expected [1, 2, 3, 4, 5, 6, 7, 8, 9, 10], returned [ 8  6  1 10  7  5  2  4  3  9]\n",
      "FAIL: expected [1, 2, 3, 4, 5, 6, 7, 8, 9, 10], returned [ 8  6  1 10  7  5  2  4  3  9]\n",
      "FAIL: expected [1, 2, 3, 4, 5, 6, 7, 8, 9, 10], returned [ 8  6  1 10  7  5  2  4  3  9]\n",
      "FAIL: expected [1, 2, 3, 4, 5, 6, 7, 8, 9, 10], returned [ 8  6  1 10  7  5  2  4  3  9]\n",
      "FAIL: expected [1, 2, 3, 4, 5, 6, 7, 8, 9, 10], returned [ 8  6  1 10  7  5  2  4  3  9]\n",
      "FAIL: expected [1, 2, 3, 4, 5, 6, 7, 8, 9, 10], returned [ 8  6  1 10  7  5  2  4  3  9]\n",
      "FAIL: expected [1, 2, 3, 4, 5, 6, 7, 8, 9, 10], returned [ 8  6  1 10  7  5  2  4  3  9]\n",
      "FAIL: expected [1, 2, 3, 4, 5, 6, 7, 8, 9, 10], returned [ 8  6  1 10  7  5  2  4  3  9]\n",
      "FAIL: expected [1, 2, 3, 4, 5, 6, 7, 8, 9, 10], returned [ 8  6  1 10  7  5  2  4  3  9]\n",
      "FAIL: expected [1, 2, 3, 4, 5, 6, 7, 8, 9, 10], returned [ 8  6  1 10  7  5  2  4  3  9]\n",
      "FAIL: expected [1, 2, 3, 4, 5, 6, 7, 8, 9, 10], returned [ 8  6  1 10  7  5  2  4  3  9]\n",
      "FAIL: expected [1, 2, 3, 4, 5, 6, 7, 8, 9, 10], returned [ 8  6  1 10  7  5  2  4  3  9]\n",
      "FAIL: expected [1, 2, 3, 4, 5, 6, 7, 8, 9, 10], returned [ 8  6  1 10  7  5  2  4  3  9]\n",
      "FAIL: expected [1, 2, 3, 4, 5, 6, 7, 8, 9, 10], returned [ 8  6  1 10  7  5  2  4  3  9]\n",
      "FAIL: expected [1, 2, 3, 4, 5, 6, 7, 8, 9, 10], returned [ 8  6  1 10  7  5  2  4  3  9]\n",
      "FAIL: expected [2, 11, 17, 18, 18, 21, 23, 27, 32, 38], returned [27 21  2 38 23 18 11 18 17 32]\n",
      "FAIL: expected [3, 4, 4, 13, 17, 24, 29, 37, 45, 47], returned [37 24  3 47 29 17  4 13  4 45]\n",
      "FAIL: expected [5, 5, 13, 17, 19, 27, 36, 38, 41, 49], returned [38 27  5 49 36 19  5 17 13 41]\n",
      "FAIL: expected [6, 12, 13, 13, 13, 19, 27, 35, 41, 45], returned [35 19  6 45 27 13 12 13 13 41]\n",
      "FAIL: expected [4, 5, 6, 14, 20, 27, 36, 36, 38, 42], returned [36 27  4 42 36 20  5 14  6 38]\n",
      "FAIL: expected [3, 12, 20, 28, 33, 40, 45, 52, 52, 58], returned [52 40  3 58 45 33 12 28 20 52]\n",
      "FAIL: expected [4, 12, 19, 22, 22, 28, 28, 32, 39, 39], returned [32 28  4 39 28 22 12 22 19 39]\n",
      "FAIL: expected [0, 9, 17, 17, 23, 31, 37, 38, 46, 55], returned [38 31  0 55 37 23  9 17 17 46]\n",
      "FAIL: expected [4, 11, 12, 12, 12, 12, 19, 21, 21, 28], returned [21 12  4 28 19 12 11 12 12 21]\n",
      "FAIL: expected [5, 10, 10, 13, 18, 22, 30, 30, 38, 42], returned [30 22  5 42 30 18 10 13 10 38]\n",
      "FAIL: expected [4, 12, 20, 20, 22, 31, 40, 42, 43, 51], returned [42 31  4 51 40 22 12 20 20 43]\n",
      "FAIL: expected [1, 5, 9, 17, 24, 32, 37, 39, 39, 42], returned [39 32  1 42 37 24  5 17  9 39]\n",
      "FAIL: expected [6, 7, 7, 12, 21, 23, 28, 31, 34, 38], returned [31 23  6 38 28 21  7 12  7 34]\n",
      "FAIL: expected [7, 14, 14, 17, 20, 23, 28, 28, 36, 42], returned [28 23  7 42 28 20 14 17 14 36]\n",
      "FAIL: expected [9, 17, 25, 33, 41, 43, 50, 59, 60, 63], returned [59 43  9 63 50 41 17 33 25 60]\n",
      "FAIL: expected [0, 1, 1, 3, 9, 14, 17, 26, 28, 30], returned [26 14  0 30 17  9  1  3  1 28]\n",
      "FAIL: expected [6, 15, 19, 21, 23, 32, 35, 35, 35, 42], returned [35 32  6 42 35 23 15 21 19 35]\n",
      "FAIL: expected [7, 16, 22, 24, 25, 26, 33, 35, 43, 49], returned [35 26  7 49 33 25 16 24 22 43]\n",
      "FAIL: expected [0, 1, 2, 7, 16, 20, 26, 26, 29, 32], returned [26 20  0 32 26 16  1  7  2 29]\n",
      "FAIL: expected [6, 15, 18, 25, 25, 33, 38, 41, 49, 54], returned [41 33  6 54 38 25 15 25 18 49]\n",
      "FAIL: expected [3, 4, 12, 16, 16, 17, 26, 31, 35, 36], returned [31 17  3 36 26 16  4 16 12 35]\n",
      "FAIL: expected [0, 3, 11, 18, 23, 30, 30, 32, 40, 45], returned [32 30  0 45 30 23  3 18 11 40]\n",
      "FAIL: expected [5, 5, 12, 15, 23, 29, 32, 41, 44, 45], returned [41 29  5 45 32 23  5 15 12 44]\n",
      "FAIL: expected [5, 5, 9, 17, 19, 20, 27, 27, 33, 42], returned [27 20  5 42 27 19  5 17  9 33]\n",
      "FAIL: expected [5, 14, 18, 20, 25, 26, 29, 30, 32, 32], returned [30 26  5 32 29 25 14 20 18 32]\n",
      "FAIL: expected [3, 4, 5, 11, 11, 11, 15, 19, 23, 31], returned [19 11  3 31 15 11  4 11  5 23]\n",
      "FAIL: expected [0, 1, 7, 7, 14, 22, 30, 35, 37, 41], returned [35 22  0 41 30 14  1  7  7 37]\n",
      "FAIL: expected [1, 1, 8, 13, 15, 16, 25, 32, 38, 43], returned [32 16  1 43 25 15  1 13  8 38]\n",
      "FAIL: expected [2, 4, 4, 12, 18, 18, 19, 24, 25, 29], returned [24 18  2 29 19 18  4 12  4 25]\n",
      "FAIL: expected [4, 12, 15, 16, 18, 23, 25, 33, 41, 42], returned [33 23  4 42 25 18 12 16 15 41]\n",
      "FAIL: expected [3, 6, 12, 12, 21, 26, 29, 33, 40, 43], returned [33 26  3 43 29 21  6 12 12 40]\n",
      "FAIL: expected [3, 11, 11, 19, 26, 27, 36, 38, 43, 46], returned [38 27  3 46 36 26 11 19 11 43]\n",
      "FAIL: expected [8, 17, 22, 23, 24, 29, 30, 37, 43, 50], returned [37 29  8 50 30 24 17 23 22 43]\n",
      "FAIL: expected [5, 14, 16, 21, 23, 26, 26, 35, 35, 41], returned [35 26  5 41 26 23 14 21 16 35]\n",
      "FAIL: expected [0, 6, 11, 13, 13, 21, 27, 34, 36, 36], returned [34 21  0 36 27 13  6 13 11 36]\n",
      "FAIL: expected [6, 7, 10, 19, 25, 34, 40, 44, 53, 55], returned [44 34  6 55 40 25  7 19 10 53]\n"
     ]
    },
    {
     "name": "stdout",
     "output_type": "stream",
     "text": [
      "FAIL: expected [9, 12, 13, 17, 21, 25, 31, 31, 32, 32], returned [31 25  9 32 31 21 12 17 13 32]\n",
      "FAIL: expected [6, 14, 21, 22, 24, 33, 37, 46, 47, 54], returned [46 33  6 54 37 24 14 22 21 47]\n",
      "FAIL: expected [1, 4, 4, 9, 18, 24, 26, 26, 30, 34], returned [26 24  1 34 26 18  4  9  4 30]\n",
      "FAIL: expected [9, 13, 14, 18, 27, 33, 41, 50, 58, 63], returned [50 33  9 63 41 27 13 18 14 58]\n",
      "FAIL: expected [3, 12, 14, 21, 27, 35, 42, 49, 58, 58], returned [49 35  3 58 42 27 12 21 14 58]\n",
      "FAIL: expected [2, 6, 8, 16, 25, 33, 33, 34, 35, 37], returned [34 33  2 37 33 25  6 16  8 35]\n",
      "FAIL: expected [8, 16, 18, 21, 24, 33, 36, 39, 44, 50], returned [39 33  8 50 36 24 16 21 18 44]\n",
      "FAIL: expected [0, 6, 14, 22, 31, 37, 43, 48, 54, 54], returned [48 37  0 54 43 31  6 22 14 54]\n",
      "FAIL: expected [2, 6, 14, 22, 26, 26, 34, 42, 49, 57], returned [42 26  2 57 34 26  6 22 14 49]\n",
      "FAIL: expected [8, 10, 12, 16, 20, 24, 32, 36, 36, 45], returned [36 24  8 45 32 20 10 16 12 36]\n",
      "FAIL: expected [7, 14, 23, 30, 36, 39, 40, 40, 46, 50], returned [40 39  7 50 40 36 14 30 23 46]\n",
      "FAIL: expected [7, 9, 17, 20, 29, 30, 34, 41, 43, 46], returned [41 30  7 46 34 29  9 20 17 43]\n",
      "FAIL: expected [3, 5, 7, 14, 14, 22, 26, 35, 37, 40], returned [35 22  3 40 26 14  5 14  7 37]\n",
      "FAIL: expected [5, 14, 23, 30, 31, 40, 41, 48, 56, 63], returned [48 40  5 63 41 31 14 30 23 56]\n",
      "done. FAILS: 100 out of 100\n",
      "==================================================\n",
      "Testing algo: `Real quick sort`\n",
      "..................................................\n",
      "FAIL: expected [2, 11, 17, 18, 18, 21, 23, 27, 32, 38], returned [1, 2, 3, 4, 5, 6, 7, 8, 9, 10]\n",
      "FAIL: expected [3, 4, 4, 13, 17, 24, 29, 37, 45, 47], returned [1, 2, 3, 4, 5, 6, 7, 8, 9, 10]\n",
      "FAIL: expected [5, 5, 13, 17, 19, 27, 36, 38, 41, 49], returned [1, 2, 3, 4, 5, 6, 7, 8, 9, 10]\n",
      "FAIL: expected [6, 12, 13, 13, 13, 19, 27, 35, 41, 45], returned [1, 2, 3, 4, 5, 6, 7, 8, 9, 10]\n",
      "FAIL: expected [4, 5, 6, 14, 20, 27, 36, 36, 38, 42], returned [1, 2, 3, 4, 5, 6, 7, 8, 9, 10]\n",
      "FAIL: expected [3, 12, 20, 28, 33, 40, 45, 52, 52, 58], returned [1, 2, 3, 4, 5, 6, 7, 8, 9, 10]\n",
      "FAIL: expected [4, 12, 19, 22, 22, 28, 28, 32, 39, 39], returned [1, 2, 3, 4, 5, 6, 7, 8, 9, 10]\n",
      "FAIL: expected [0, 9, 17, 17, 23, 31, 37, 38, 46, 55], returned [1, 2, 3, 4, 5, 6, 7, 8, 9, 10]\n",
      "FAIL: expected [4, 11, 12, 12, 12, 12, 19, 21, 21, 28], returned [1, 2, 3, 4, 5, 6, 7, 8, 9, 10]\n",
      "FAIL: expected [5, 10, 10, 13, 18, 22, 30, 30, 38, 42], returned [1, 2, 3, 4, 5, 6, 7, 8, 9, 10]\n",
      "FAIL: expected [4, 12, 20, 20, 22, 31, 40, 42, 43, 51], returned [1, 2, 3, 4, 5, 6, 7, 8, 9, 10]\n",
      "FAIL: expected [1, 5, 9, 17, 24, 32, 37, 39, 39, 42], returned [1, 2, 3, 4, 5, 6, 7, 8, 9, 10]\n",
      "FAIL: expected [6, 7, 7, 12, 21, 23, 28, 31, 34, 38], returned [1, 2, 3, 4, 5, 6, 7, 8, 9, 10]\n",
      "FAIL: expected [7, 14, 14, 17, 20, 23, 28, 28, 36, 42], returned [1, 2, 3, 4, 5, 6, 7, 8, 9, 10]\n",
      "FAIL: expected [9, 17, 25, 33, 41, 43, 50, 59, 60, 63], returned [1, 2, 3, 4, 5, 6, 7, 8, 9, 10]\n",
      "FAIL: expected [0, 1, 1, 3, 9, 14, 17, 26, 28, 30], returned [1, 2, 3, 4, 5, 6, 7, 8, 9, 10]\n",
      "FAIL: expected [6, 15, 19, 21, 23, 32, 35, 35, 35, 42], returned [1, 2, 3, 4, 5, 6, 7, 8, 9, 10]\n",
      "FAIL: expected [7, 16, 22, 24, 25, 26, 33, 35, 43, 49], returned [1, 2, 3, 4, 5, 6, 7, 8, 9, 10]\n",
      "FAIL: expected [0, 1, 2, 7, 16, 20, 26, 26, 29, 32], returned [1, 2, 3, 4, 5, 6, 7, 8, 9, 10]\n",
      "FAIL: expected [6, 15, 18, 25, 25, 33, 38, 41, 49, 54], returned [1, 2, 3, 4, 5, 6, 7, 8, 9, 10]\n",
      "FAIL: expected [3, 4, 12, 16, 16, 17, 26, 31, 35, 36], returned [1, 2, 3, 4, 5, 6, 7, 8, 9, 10]\n",
      "FAIL: expected [0, 3, 11, 18, 23, 30, 30, 32, 40, 45], returned [1, 2, 3, 4, 5, 6, 7, 8, 9, 10]\n",
      "FAIL: expected [5, 5, 12, 15, 23, 29, 32, 41, 44, 45], returned [1, 2, 3, 4, 5, 6, 7, 8, 9, 10]\n",
      "FAIL: expected [5, 5, 9, 17, 19, 20, 27, 27, 33, 42], returned [1, 2, 3, 4, 5, 6, 7, 8, 9, 10]\n",
      "FAIL: expected [5, 14, 18, 20, 25, 26, 29, 30, 32, 32], returned [1, 2, 3, 4, 5, 6, 7, 8, 9, 10]\n",
      "FAIL: expected [3, 4, 5, 11, 11, 11, 15, 19, 23, 31], returned [1, 2, 3, 4, 5, 6, 7, 8, 9, 10]\n",
      "FAIL: expected [0, 1, 7, 7, 14, 22, 30, 35, 37, 41], returned [1, 2, 3, 4, 5, 6, 7, 8, 9, 10]\n",
      "FAIL: expected [1, 1, 8, 13, 15, 16, 25, 32, 38, 43], returned [1, 2, 3, 4, 5, 6, 7, 8, 9, 10]\n",
      "FAIL: expected [2, 4, 4, 12, 18, 18, 19, 24, 25, 29], returned [1, 2, 3, 4, 5, 6, 7, 8, 9, 10]\n",
      "FAIL: expected [4, 12, 15, 16, 18, 23, 25, 33, 41, 42], returned [1, 2, 3, 4, 5, 6, 7, 8, 9, 10]\n",
      "FAIL: expected [3, 6, 12, 12, 21, 26, 29, 33, 40, 43], returned [1, 2, 3, 4, 5, 6, 7, 8, 9, 10]\n",
      "FAIL: expected [3, 11, 11, 19, 26, 27, 36, 38, 43, 46], returned [1, 2, 3, 4, 5, 6, 7, 8, 9, 10]\n",
      "FAIL: expected [8, 17, 22, 23, 24, 29, 30, 37, 43, 50], returned [1, 2, 3, 4, 5, 6, 7, 8, 9, 10]\n",
      "FAIL: expected [5, 14, 16, 21, 23, 26, 26, 35, 35, 41], returned [1, 2, 3, 4, 5, 6, 7, 8, 9, 10]\n",
      "FAIL: expected [0, 6, 11, 13, 13, 21, 27, 34, 36, 36], returned [1, 2, 3, 4, 5, 6, 7, 8, 9, 10]\n",
      "FAIL: expected [6, 7, 10, 19, 25, 34, 40, 44, 53, 55], returned [1, 2, 3, 4, 5, 6, 7, 8, 9, 10]\n",
      "FAIL: expected [9, 12, 13, 17, 21, 25, 31, 31, 32, 32], returned [1, 2, 3, 4, 5, 6, 7, 8, 9, 10]\n",
      "FAIL: expected [6, 14, 21, 22, 24, 33, 37, 46, 47, 54], returned [1, 2, 3, 4, 5, 6, 7, 8, 9, 10]\n",
      "FAIL: expected [1, 4, 4, 9, 18, 24, 26, 26, 30, 34], returned [1, 2, 3, 4, 5, 6, 7, 8, 9, 10]\n",
      "FAIL: expected [9, 13, 14, 18, 27, 33, 41, 50, 58, 63], returned [1, 2, 3, 4, 5, 6, 7, 8, 9, 10]\n",
      "FAIL: expected [3, 12, 14, 21, 27, 35, 42, 49, 58, 58], returned [1, 2, 3, 4, 5, 6, 7, 8, 9, 10]\n",
      "FAIL: expected [2, 6, 8, 16, 25, 33, 33, 34, 35, 37], returned [1, 2, 3, 4, 5, 6, 7, 8, 9, 10]\n",
      "FAIL: expected [8, 16, 18, 21, 24, 33, 36, 39, 44, 50], returned [1, 2, 3, 4, 5, 6, 7, 8, 9, 10]\n",
      "FAIL: expected [0, 6, 14, 22, 31, 37, 43, 48, 54, 54], returned [1, 2, 3, 4, 5, 6, 7, 8, 9, 10]\n",
      "FAIL: expected [2, 6, 14, 22, 26, 26, 34, 42, 49, 57], returned [1, 2, 3, 4, 5, 6, 7, 8, 9, 10]\n",
      "FAIL: expected [8, 10, 12, 16, 20, 24, 32, 36, 36, 45], returned [1, 2, 3, 4, 5, 6, 7, 8, 9, 10]\n",
      "FAIL: expected [7, 14, 23, 30, 36, 39, 40, 40, 46, 50], returned [1, 2, 3, 4, 5, 6, 7, 8, 9, 10]\n",
      "FAIL: expected [7, 9, 17, 20, 29, 30, 34, 41, 43, 46], returned [1, 2, 3, 4, 5, 6, 7, 8, 9, 10]\n",
      "FAIL: expected [3, 5, 7, 14, 14, 22, 26, 35, 37, 40], returned [1, 2, 3, 4, 5, 6, 7, 8, 9, 10]\n",
      "FAIL: expected [5, 14, 23, 30, 31, 40, 41, 48, 56, 63], returned [1, 2, 3, 4, 5, 6, 7, 8, 9, 10]\n",
      "done. FAILS: 50 out of 100\n"
     ]
    }
   ],
   "source": [
    "np.random.seed()\n",
    "instances_list = [get_consec_instance(10) for _ in range(50)] + [get_rnd_instance(10) for _ in range(50)]\n",
    "\n",
    "for sorting_func, label in [\n",
    "    (bubble_sort, \"Bubble sort\"), \n",
    "    (merge_sort, \"Merge sort\"), \n",
    "    (panic_sort, \"Panic sort\"), \n",
    "    (real_quick_sort, \"Real quick sort\")]:\n",
    "    \n",
    "    print(\"==================================================\")\n",
    "    test_algo(label, sorting_func, instances_list)"
   ]
  },
  {
   "cell_type": "markdown",
   "metadata": {
    "slideshow": {
     "slide_type": "subslide"
    }
   },
   "source": [
    "(This \"real quick sort\" is not completely \"fake\", though. It is okay assuming you know something about your `input_array`. If interested, see [Bucket sort](https://en.wikipedia.org/wiki/Bucket_sort), [Radix sort](https://en.wikipedia.org/wiki/Radix_sort) and such)"
   ]
  },
  {
   "cell_type": "markdown",
   "metadata": {
    "slideshow": {
     "slide_type": "slide"
    }
   },
   "source": [
    "### Runtime\n",
    "\n",
    "Everyone is data-driven now, right? -- so let's just make some data (again) and see how these different approaches perform."
   ]
  },
  {
   "cell_type": "code",
   "execution_count": 28,
   "metadata": {
    "slideshow": {
     "slide_type": "fragment"
    }
   },
   "outputs": [],
   "source": [
    "def get_runtimes(sort_function, gen_function=get_rnd_instance, N=100, no_inst = 100):\n",
    "    \"\"\"generates instances, tests the `sort_function` and returns a list of runtimes\"\"\"\n",
    "    \n",
    "    runtimes = []\n",
    "    for i in range(no_inst):\n",
    "        _, arr_input = gen_function(N)\n",
    "        t0 = time()\n",
    "        out = sort_function(arr_input)\n",
    "        t1 = time()\n",
    "        runtimes.append(t1-t0) # runtime in seconds\n",
    "    return runtimes"
   ]
  },
  {
   "cell_type": "code",
   "execution_count": 29,
   "metadata": {
    "slideshow": {
     "slide_type": "subslide"
    }
   },
   "outputs": [],
   "source": [
    "def make_runtimes_plot(gen_function = get_rnd_instance, N = 10, no_inst=100):\n",
    "    \"\"\"creates a simple runtimes plot\"\"\"\n",
    "    \n",
    "    runtimes = pd.DataFrame(data = {\n",
    "        'Bubble_sort' : get_runtimes(bubble_sort, gen_function, N, no_inst),\n",
    "        'Merge_sort' : get_runtimes(merge_sort, gen_function)\n",
    "    }, columns = ['Bubble_sort', 'Merge_sort'])\n",
    "\n",
    "    ax = sns.stripplot(y = runtimes[\"Bubble_sort\"]*1000., color='red', jitter=True)\n",
    "    ax = sns.stripplot(y = runtimes['Merge_sort']*1000., color='blue', ax = ax, jitter = True)\n",
    "    ax.set(xlabel='red = bubble sort, blue = merge sort, N={}'.format(N), ylabel='runtimes, msec')\n",
    "    return ax\n",
    "\n"
   ]
  },
  {
   "cell_type": "code",
   "execution_count": 30,
   "metadata": {
    "slideshow": {
     "slide_type": "subslide"
    }
   },
   "outputs": [
    {
     "data": {
      "text/plain": [
       "<matplotlib.axes._subplots.AxesSubplot at 0x7f67e7a6c750>"
      ]
     },
     "execution_count": 30,
     "metadata": {},
     "output_type": "execute_result"
    },
    {
     "data": {
      "image/png": "[encoded data removed]",
      "text/plain": [
       "<Figure size 720x720 with 1 Axes>"
      ]
     },
     "metadata": {
      "needs_background": "light"
     },
     "output_type": "display_data"
    }
   ],
   "source": [
    "plt.figure(figsize = (10,10))\n",
    "make_runtimes_plot()"
   ]
  },
  {
   "cell_type": "markdown",
   "metadata": {
    "slideshow": {
     "slide_type": "subslide"
    }
   },
   "source": [
    "### However, there are some problems with this approach."
   ]
  },
  {
   "cell_type": "markdown",
   "metadata": {
    "slideshow": {
     "slide_type": "fragment"
    }
   },
   "source": [
    "### Problem 1: scaling\n",
    "First, let us consider what happens as we change the length of the input. It is what usually matters -- how does our algorithm *scale* (no one is really interested in sorting arrays with `N=5`...)"
   ]
  },
  {
   "cell_type": "code",
   "execution_count": 31,
   "metadata": {
    "scrolled": true,
    "slideshow": {
     "slide_type": "subslide"
    }
   },
   "outputs": [
    {
     "data": {
      "text/plain": [
       "<matplotlib.axes._subplots.AxesSubplot at 0x7f67e2806bd0>"
      ]
     },
     "execution_count": 31,
     "metadata": {},
     "output_type": "execute_result"
    },
    {
     "data": {
      "image/png": "[encoded data removed]",
      "text/plain": [
       "<Figure size 1152x720 with 4 Axes>"
      ]
     },
     "metadata": {
      "needs_background": "light"
     },
     "output_type": "display_data"
    }
   ],
   "source": [
    "plt.figure(figsize = (16,10))\n",
    "plt.subplot(1,4,1); make_runtimes_plot(N=10)\n",
    "\n",
    "plt.subplot(1,4,2); make_runtimes_plot(N=25)\n",
    "\n",
    "plt.subplot(1,4,3); make_runtimes_plot(N=50)\n",
    "\n",
    "plt.subplot(1,4,4); make_runtimes_plot(N=100)"
   ]
  },
  {
   "cell_type": "markdown",
   "metadata": {
    "slideshow": {
     "slide_type": "subslide"
    }
   },
   "source": [
    "So okay, to understand what's going on here, we'd need to run the experiment for several different `N`-s. Say, let us plot mean runtimes instead..."
   ]
  },
  {
   "cell_type": "code",
   "execution_count": 32,
   "metadata": {
    "slideshow": {
     "slide_type": "fragment"
    }
   },
   "outputs": [],
   "source": [
    "def make_mean_runtimes(sort_function, gen_function = get_rnd_instance, N1 = 10, N2 = 100, no_inst=50):\n",
    "    \"\"\"creates a list of **mean** runtimes for different values of N\"\"\"\n",
    "    \n",
    "    runtimes = []\n",
    "    for i in range(N2-N1):\n",
    "        runtimes.append(np.mean(get_runtimes(sort_function, gen_function, N = N1 + i, no_inst = no_inst))*1000)\n",
    "    \n",
    "    return runtimes\n",
    "\n",
    "N1 = 5; N2 = 100\n",
    "\n",
    "rt_bsort = make_mean_runtimes(bubble_sort, N1=N1, N2 = N2)\n",
    "rt_msort = make_mean_runtimes(merge_sort, N1=N1, N2 = N2)"
   ]
  },
  {
   "cell_type": "code",
   "execution_count": 33,
   "metadata": {
    "slideshow": {
     "slide_type": "subslide"
    }
   },
   "outputs": [
    {
     "data": {
      "text/plain": [
       "[<matplotlib.lines.Line2D at 0x7f67e254c150>]"
      ]
     },
     "execution_count": 33,
     "metadata": {},
     "output_type": "execute_result"
    },
    {
     "data": {
      "image/png": "[encoded data removed]",
      "text/plain": [
       "<Figure size 1152x720 with 2 Axes>"
      ]
     },
     "metadata": {
      "needs_background": "light"
     },
     "output_type": "display_data"
    }
   ],
   "source": [
    "plt.figure(figsize = (16,10))\n",
    "plt.subplot(1,2,1)\n",
    "plt.plot([N1 + i for i in range(N2-N1)], rt_bsort, 'r-')\n",
    "plt.plot([N1 + i for i in range(N2-N1)], rt_msort, 'b-')\n",
    "plt.gca().set(xlabel='Input array size(N). red = bubble sort, blue = merge sort', ylabel='mean runtimes, msec')\n",
    "plt.subplot(1,2,2)\n",
    "plt.plot([N1 + i for i in range(N2-N1)], [x*x for x in range(N1, N2)], 'r-')\n",
    "plt.plot([N1 + i for i in range(N2-N1)], [x*log(x) for x in range(N1,N2)], 'b-')"
   ]
  },
  {
   "cell_type": "markdown",
   "metadata": {
    "slideshow": {
     "slide_type": "slide"
    }
   },
   "source": [
    "### Problem 2: special inputs\n",
    "Then, let us feed in some pretty special inputs:"
   ]
  },
  {
   "cell_type": "code",
   "execution_count": 34,
   "metadata": {
    "slideshow": {
     "slide_type": "fragment"
    }
   },
   "outputs": [],
   "source": [
    "def gen_magic_sequence(N):\n",
    "    \"\"\"Generates a \"special\" input sequence (with only two elements swapped)\"\"\"\n",
    "    \n",
    "    input_sorted = [i+1 for i in range(N)] # generate a sequence of numbers\n",
    "    input_unsorted = [i+1 for i in range(N)]\n",
    "    a = input_unsorted[N // 2]\n",
    "    b = input_unsorted[N // 2 + 1]\n",
    "    input_unsorted[N // 2] = b; input_unsorted[N // 2 + 1] = a # how 'bout this?!\n",
    "    \n",
    "    return input_sorted, input_unsorted"
   ]
  },
  {
   "cell_type": "code",
   "execution_count": 35,
   "metadata": {
    "slideshow": {
     "slide_type": "subslide"
    }
   },
   "outputs": [
    {
     "data": {
      "text/plain": [
       "<matplotlib.axes._subplots.AxesSubplot at 0x7f67e27a6150>"
      ]
     },
     "execution_count": 35,
     "metadata": {},
     "output_type": "execute_result"
    },
    {
     "data": {
      "image/png": "[encoded data removed]",
      "text/plain": [
       "<Figure size 1152x720 with 2 Axes>"
      ]
     },
     "metadata": {
      "needs_background": "light"
     },
     "output_type": "display_data"
    }
   ],
   "source": [
    "plt.figure(figsize = (16,10))\n",
    "plt.subplot(1,2,1); make_runtimes_plot(N=50)\n",
    "plt.subplot(1,2,2); make_runtimes_plot(gen_magic_sequence, N=50)"
   ]
  },
  {
   "cell_type": "code",
   "execution_count": 36,
   "metadata": {
    "slideshow": {
     "slide_type": "subslide"
    }
   },
   "outputs": [],
   "source": [
    "rt_bsort_m = make_mean_runtimes(bubble_sort, gen_function=gen_magic_sequence, N1=N1, N2 = N2)\n",
    "rt_msort_m = make_mean_runtimes(merge_sort,  gen_function=gen_magic_sequence, N1=N1, N2 = N2)"
   ]
  },
  {
   "cell_type": "code",
   "execution_count": 37,
   "metadata": {
    "slideshow": {
     "slide_type": "subslide"
    }
   },
   "outputs": [
    {
     "data": {
      "text/plain": [
       "[<matplotlib.lines.Line2D at 0x7f67e23d2110>]"
      ]
     },
     "execution_count": 37,
     "metadata": {},
     "output_type": "execute_result"
    },
    {
     "data": {
      "image/png": "[encoded data removed]",
      "text/plain": [
       "<Figure size 1152x720 with 2 Axes>"
      ]
     },
     "metadata": {
      "needs_background": "light"
     },
     "output_type": "display_data"
    }
   ],
   "source": [
    "plt.figure(figsize = (16,10))\n",
    "plt.subplot(1,2,1)\n",
    "plt.plot([N1 + i for i in range(N2-N1)], rt_bsort_m, 'r-')\n",
    "plt.plot([N1 + i for i in range(N2-N1)], rt_msort_m, 'b-')\n",
    "plt.gca().set(xlabel='Input array size(N). red = bubble sort, blue = merge sort', ylabel='mean runtimes, msec')\n",
    "plt.subplot(1,2,2)\n",
    "plt.plot([N1 + i for i in range(N2-N1)], [x*x for x in range(N1, N2)], 'r-')\n",
    "plt.plot([N1 + i for i in range(N2-N1)], [x*log(x) for x in range(N1,N2)], 'b-')"
   ]
  },
  {
   "cell_type": "markdown",
   "metadata": {
    "slideshow": {
     "slide_type": "fragment"
    }
   },
   "source": [
    "so the question is..."
   ]
  },
  {
   "cell_type": "markdown",
   "metadata": {
    "slideshow": {
     "slide_type": "fragment"
    }
   },
   "source": [
    "... WHAT. IS. **THIS** ?!"
   ]
  },
  {
   "cell_type": "markdown",
   "metadata": {
    "slideshow": {
     "slide_type": "subslide"
    }
   },
   "source": [
    "And the answer is: well, it depends on input! (surprise!). So, intuitively, we'd want to differentiate between the *worst-case*, *best-case*, and *average* performance (whatever it all would mean, precisely).\n",
    "\n",
    "Actually, what we see, say, on Wiki [page](https://en.wikipedia.org/wiki/Merge_sort) describing an alorithm, is exactly this.\n",
    "\n",
    "Therefore, people quite often talk about the *asymptotic worst-case runtime*. Now you have seen what (almost) each word means :)\n"
   ]
  },
  {
   "cell_type": "markdown",
   "metadata": {
    "slideshow": {
     "slide_type": "slide"
    }
   },
   "source": [
    "### So, what to do?\n",
    "Quite often you can see this $O(\\cdot)$ notation. This is an *upper bound* on the respective runtime (say, on the *worst-case* performance). What is meant, usually, is this is how the runtime behaves as the *size* of the problem increases infinitely. For our case, the problem size is, naturally, $N$ -- how many numbers are there in the array.\n",
    "\n",
    "People usually do not care about multiplicative constants (since $Ax^3$ will grow more than $Bx^2$, eventually, for any $A,B>0$ and $x>0$). This allows to disregard details and just count operations that do not depend on the input size. Let's consider an example."
   ]
  },
  {
   "cell_type": "markdown",
   "metadata": {
    "slideshow": {
     "slide_type": "fragment"
    }
   },
   "source": [
    "More **formally**: runtime $T(n) \\in O(g(n))$ if and only if there exists some $n_0 > 0$ and $C > 0$ such that for all $n>n_0:~T(n)\\leq Cg(n)$."
   ]
  },
  {
   "cell_type": "markdown",
   "metadata": {
    "slideshow": {
     "slide_type": "subslide"
    }
   },
   "source": [
    "Hey, asymptotics is a big deal, actually:"
   ]
  },
  {
   "cell_type": "code",
   "execution_count": 41,
   "metadata": {
    "slideshow": {
     "slide_type": "fragment"
    }
   },
   "outputs": [
    {
     "data": {
      "text/plain": [
       "<matplotlib.legend.Legend at 0x7f67e06a1c90>"
      ]
     },
     "execution_count": 41,
     "metadata": {},
     "output_type": "execute_result"
    },
    {
     "data": {
      "image/png": "[encoded data removed]",
      "text/plain": [
       "<Figure size 1152x720 with 1 Axes>"
      ]
     },
     "metadata": {
      "needs_background": "light"
     },
     "output_type": "display_data"
    }
   ],
   "source": [
    "ns = [n for n in range(1,21)]\n",
    "\n",
    "plt.figure(figsize = (16,10))\n",
    "plt.plot(ns, label=\"linear\")\n",
    "plt.plot([n * log(n) for n in ns], label=\"N log N\")\n",
    "plt.plot([n**2 for n in ns], label=\"$N^2$\")\n",
    "plt.plot([n**3 for n in ns], label=\"$N^3$\")\n",
    "plt.plot([2**n for n in ns], label=\"$2^N$\")\n",
    "plt.legend()"
   ]
  },
  {
   "cell_type": "markdown",
   "metadata": {
    "slideshow": {
     "slide_type": "subslide"
    }
   },
   "source": [
    "- **For the bubble sort:** \n",
    "    + In the worst case, we will have to flip every one of the $N$ numbers with every other (if the input array is sorted, but in the wrong way -- e.g., in descending instead of ascending order). \n",
    "    + Then, we will have to perform $N(N-1)$ swap operations -- at most, regardless of anything. \n",
    "    + This is $N^2-N$, which still grows as fast as $N^2$, as $N$ increases infinitely. \n",
    "    \n",
    "So, we'd write it as \"bubble sort worst-case runtime is in $O(N^2)$\". (There is no way it could run slower, right?)\n"
   ]
  },
  {
   "cell_type": "markdown",
   "metadata": {
    "slideshow": {
     "slide_type": "subslide"
    }
   },
   "source": [
    "- **For the merge sort:** let's consider what it does. \n",
    "    + Every `merge` operation takes $O(N)$ time, since it performs at most $N$ \"ticks\" while merging. We'd just need to count how many times this function could be invoked. \n",
    "    + Well, this is easy: this is the number of times we can divide $N$ into two, since each time we split it in two halves. \n",
    "    + If you think about it, this is the largest number $k$ such that $2^k \\leq N$. We can use a slight overestimate, a number $k$ such that $2^k=N$, which mathematicians call $\\log_2 N$. \n",
    "    + Therefore, we can say that we invoke the `merge` function (which takes $O(N)$ time), $\\log_2 N$ times.\n",
    "    \n",
    "So, the asymptotic worst-case runtime of the merge sort is $O(N \\log N)$ (computer science people sometimes omit this subscript of $2$, if most of the logarithms are base-two. And also it doesn't matter in $O(\\cdot)$ notation if you recall properties of the logarithm...)."
   ]
  },
  {
   "cell_type": "markdown",
   "metadata": {
    "slideshow": {
     "slide_type": "subslide"
    }
   },
   "source": [
    "So, let's recap. What is the worst-case runtime for merge sort?\n",
    "\n",
    "- $O(N\\log N)$\n",
    "- $O(N^2)$\n",
    "- $O(N^3)$\n",
    "- $O(2^{2^N})$"
   ]
  },
  {
   "cell_type": "markdown",
   "metadata": {
    "slideshow": {
     "slide_type": "fragment"
    }
   },
   "source": [
    "Well, technically, **all** are correct :). It is just an upper bound. But it is usually the tight one we care about.\n",
    "\n",
    "Sometimes we want to know what is the least possible asymptotic runtime -- there is a special notation for that. For example, the bubble sort cannot make fewer than $O(N)$ elementary operations (it needs to scan the array, at the very least). Although, our magic in `merge_sort` procedure implies that we are always making $O(N\\log N)$ steps, no matter the initial data! (hence the last \"strange\" figure of runtimes)\n",
    "\n",
    "If interested, google Omega and Theta notations (e.g., see the [Wiki](https://en.wikipedia.org/wiki/Big_O_notation). But probably better explained in the intro chapter of a textbook).\n",
    "\n",
    "**Also:** in some cases, the hidden constant does matter -- so in the end of the day, for relatively simple/known problems: if you can, just google what's the best algorithm."
   ]
  },
  {
   "cell_type": "markdown",
   "metadata": {
    "slideshow": {
     "slide_type": "slide"
    }
   },
   "source": [
    "### The final remark on this\n",
    "In practice, please do sorting like this, unless it is necessary to do otherwise:"
   ]
  },
  {
   "cell_type": "code",
   "execution_count": 42,
   "metadata": {
    "slideshow": {
     "slide_type": "fragment"
    }
   },
   "outputs": [
    {
     "data": {
      "text/plain": [
       "array([1, 1, 2, 3, 4, 5, 7])"
      ]
     },
     "execution_count": 42,
     "metadata": {},
     "output_type": "execute_result"
    }
   ],
   "source": [
    "np.sort([1,5,2,7,3,4,1])"
   ]
  },
  {
   "cell_type": "code",
   "execution_count": 43,
   "metadata": {
    "slideshow": {
     "slide_type": "fragment"
    }
   },
   "outputs": [
    {
     "data": {
      "text/plain": [
       "array([1, 1, 2, 3, 4, 5, 7])"
      ]
     },
     "execution_count": 43,
     "metadata": {},
     "output_type": "execute_result"
    }
   ],
   "source": [
    "# or, if you want to look fancy:\n",
    "np.sort([1,5,2,7,3,4,1], kind='mergesort')"
   ]
  },
  {
   "cell_type": "markdown",
   "metadata": {
    "slideshow": {
     "slide_type": "fragment"
    }
   },
   "source": [
    "No need to reinvent the bicycle. There are many algorithms already implemented for you in several great libraries. For example, lots of useful things are in [scikit-learn](https://scikit-learn.org/stable/) and (as you can tell even from this notebook) [numpy](https://numpy.org/), and so on. So if you are thinking to implement something -- a good first step is\n",
    "\n",
    "**!! to look around, maybe something is already implemented !!**\n",
    "\n",
    "(and chances are, with high-quality code, with support for special hardware, if needed, etc.)."
   ]
  },
  {
   "cell_type": "markdown",
   "metadata": {
    "slideshow": {
     "slide_type": "slide"
    }
   },
   "source": [
    "## NP-hard problems\n",
    "\n",
    "It seems that not all problems are solvable in polynomial time (in general case). There is a class of problems such that:\n",
    "- a (given) solution can be *verified* in polynomial time,\n",
    "- but no known algorithm exists to solve it (i.e., find a solution in first place) in polynomial time. (**OR:** actually, solving it in polynomial time would allow to solve some more really hard problems in polynomial time)\n",
    "\n",
    "Is is a little more complicated than that, actually -- you can check out the concepts of [NP-hardness](https://en.wikipedia.org/wiki/NP-hardness), and [P vs NP](https://en.wikipedia.org/wiki/P_versus_NP_problem) problem, if you are interested. But if so, picking up a Computer Science textbook (or a course) might be a good idea..."
   ]
  },
  {
   "cell_type": "markdown",
   "metadata": {
    "slideshow": {
     "slide_type": "subslide"
    }
   },
   "source": [
    "In practice, it means that there is a big class of (relevant) problems, that do not allow for efficient exact solution. In this case people sometimes try to devise *approximate* algorithms (and sometimes, pretty successfully). OR even heuristics (that just gives \"kinda okay\" solutions, without any guarantees... pretty good in practice sometimes, though).\n",
    "\n",
    "Selecting optimal phylogenetic trees / multiple sequence alignment (see, e.g., [wiki](https://en.wikipedia.org/wiki/Sequence_alignment)), [k-means](https://en.wikipedia.org/wiki/K-means_clustering) clustering, and many others are \"computationally difficult\". Also, see the [List](https://en.wikipedia.org/wiki/List_of_NP-complete_problems) of NP-complete problems for some more examples."
   ]
  },
  {
   "cell_type": "markdown",
   "metadata": {
    "slideshow": {
     "slide_type": "slide"
    }
   },
   "source": [
    "## A note: space requirements\n",
    "You can use this $O(\\cdot)$ notation to analyze other requirements as well: for example, how much space does your (or someone else's) algorithm requires. For example, note that bubble sort does not require additional space (it can run over the same input array, *in-place*), while our implementation of merge sort required $O(N)$ units of additional memory."
   ]
  },
  {
   "cell_type": "markdown",
   "metadata": {
    "slideshow": {
     "slide_type": "slide"
    }
   },
   "source": [
    "# Data structures"
   ]
  },
  {
   "cell_type": "markdown",
   "metadata": {
    "slideshow": {
     "slide_type": "subslide"
    }
   },
   "source": [
    "Usually what we mean is: an abstract description of the data type. E.g., the stuff that keeps an ordered list of $N$ elements, requires $O(N)$ space, and supports:\n",
    "- `access`($i$) -- accesses the $i$-th element, in $O(1)$ time;\n",
    "- `modify`($i,e$) -- sets the $i$-th element to $e$, in $O(1)$ time;\n",
    "- `delete`($i$) -- deletes the $i$-th element, in $O(N)$ time,\n",
    "- `insert`($i,e$) -- inserts the element $e$ after position $i$, in $O(N)$ time.\n",
    "\n",
    "Which is ... ?"
   ]
  },
  {
   "cell_type": "code",
   "execution_count": 44,
   "metadata": {
    "slideshow": {
     "slide_type": "fragment"
    }
   },
   "outputs": [
    {
     "name": "stdout",
     "output_type": "stream",
     "text": [
      "A[2]=el-3\n",
      "now A[2]=el-E\n"
     ]
    }
   ],
   "source": [
    "# well, yes\n",
    "A = np.array([\"el-1\",\"el-2\",\"el-3\",\"el-4\",\"el-5\"])\n",
    "print(f\"A[2]={A[2]}\")\n",
    "\n",
    "A[2] = \"el-E\"\n",
    "print(f\"now A[2]={A[2]}\")"
   ]
  },
  {
   "cell_type": "markdown",
   "metadata": {
    "slideshow": {
     "slide_type": "subslide"
    }
   },
   "source": [
    "What if I wanted to insert often (say, within a loop), after the last element -- but would be okay with compromising on the `access` runtime? "
   ]
  },
  {
   "cell_type": "code",
   "execution_count": 45,
   "metadata": {
    "slideshow": {
     "slide_type": "subslide"
    }
   },
   "outputs": [],
   "source": [
    "D = []\n",
    "runtimes = []\n",
    "for i in range(10000):\n",
    "    t0 = time()\n",
    "    for k in range(10):\n",
    "        D = D + [\"my new element\"]\n",
    "    t1 = time()\n",
    "    runtimes.append(t1-t0)"
   ]
  },
  {
   "cell_type": "code",
   "execution_count": 46,
   "metadata": {
    "slideshow": {
     "slide_type": "fragment"
    }
   },
   "outputs": [
    {
     "data": {
      "text/plain": [
       "['my new element',\n",
       " 'my new element',\n",
       " 'my new element',\n",
       " 'my new element',\n",
       " 'my new element']"
      ]
     },
     "execution_count": 46,
     "metadata": {},
     "output_type": "execute_result"
    }
   ],
   "source": [
    "D[-5:]"
   ]
  },
  {
   "cell_type": "code",
   "execution_count": 47,
   "metadata": {
    "slideshow": {
     "slide_type": "fragment"
    }
   },
   "outputs": [
    {
     "data": {
      "text/plain": [
       "100000"
      ]
     },
     "execution_count": 47,
     "metadata": {},
     "output_type": "execute_result"
    }
   ],
   "source": [
    "len(D)"
   ]
  },
  {
   "cell_type": "code",
   "execution_count": 48,
   "metadata": {
    "slideshow": {
     "slide_type": "subslide"
    }
   },
   "outputs": [
    {
     "data": {
      "text/plain": [
       "[<matplotlib.lines.Line2D at 0x7f67e059b950>]"
      ]
     },
     "execution_count": 48,
     "metadata": {},
     "output_type": "execute_result"
    },
    {
     "data": {
      "image/png": "[encoded data removed]",
      "text/plain": [
       "<Figure size 1152x720 with 1 Axes>"
      ]
     },
     "metadata": {
      "needs_background": "light"
     },
     "output_type": "display_data"
    }
   ],
   "source": [
    "plt.figure(figsize = (16,10))\n",
    "plt.plot(runtimes)"
   ]
  },
  {
   "cell_type": "markdown",
   "metadata": {
    "slideshow": {
     "slide_type": "subslide"
    }
   },
   "source": [
    "Now, enter **link lists**. For every number, let's just keep a pointer to the next number:"
   ]
  },
  {
   "cell_type": "markdown",
   "metadata": {
    "slideshow": {
     "slide_type": "fragment"
    }
   },
   "source": [
    "<img src=\"img/linked_list.png\" alt=\"Linked list illustration\" style=\"width: 800px;\"/>"
   ]
  },
  {
   "cell_type": "code",
   "execution_count": 49,
   "metadata": {
    "slideshow": {
     "slide_type": "subslide"
    }
   },
   "outputs": [],
   "source": [
    "class MyNode:\n",
    "    \"\"\"describes a node in the linked list\"\"\"\n",
    "    \n",
    "    def __init__(self, data, next_node):\n",
    "        \"\"\"constructor: invoked when the object is created\"\"\"\n",
    "        self.my_data = data\n",
    "        self.next_node = next_node\n",
    "        \n",
    "    def find(self, what):\n",
    "        \"\"\"find method (looks for `what` in this or next nodes)\"\"\"\n",
    "        \n",
    "        if self.my_data == what:\n",
    "            return self\n",
    "        else:\n",
    "            if self.next_node is None:\n",
    "                return None\n",
    "            else:\n",
    "                return self.next_node.find(what)\n",
    "\n",
    "    def __str__(self):\n",
    "        \"\"\"auxiliary function, so we could just print(MyNode)\"\"\"\n",
    "        \n",
    "        return self.my_data\n",
    "\n",
    "class MyLinkedList:\n",
    "    \"\"\"describes a simplistic Linked List data structure\"\"\"\n",
    "    \n",
    "    def __init__(self, root_data):\n",
    "        \"\"\"constructor: invoked when the new linked list is created\"\"\"\n",
    "        \n",
    "        self.root = MyNode(data = root_data, next_node = None)\n",
    "        self.last = self.root\n",
    "        \n",
    "    def find(self, what):\n",
    "        \"\"\"finds `what` in the linked list\"\"\"\n",
    "        return self.root.find(what)\n",
    "    \n",
    "    def append(self, with_what):\n",
    "        \"\"\"appends `with_what` to the end of the linked list\"\"\"\n",
    "        self.last.next_node = MyNode(with_what, next_node = None)\n",
    "        self.last = self.last.next_node"
   ]
  },
  {
   "cell_type": "code",
   "execution_count": 50,
   "metadata": {
    "slideshow": {
     "slide_type": "subslide"
    }
   },
   "outputs": [
    {
     "name": "stdout",
     "output_type": "stream",
     "text": [
      "Finding 'Next el 1': Next el 1\n",
      "Finding 'Next el 3': None\n"
     ]
    }
   ],
   "source": [
    "# let's test it\n",
    "my_list = MyLinkedList(\"I am root\")\n",
    "my_list.append(\"Next el 1\")\n",
    "my_list.append(\"Next el 2\")\n",
    "\n",
    "print(\"Finding 'Next el 1': {}\".format(my_list.find(\"Next el 1\")))\n",
    "print(\"Finding 'Next el 3': {}\".format(my_list.find(\"Next el 3\")))"
   ]
  },
  {
   "cell_type": "code",
   "execution_count": 51,
   "metadata": {
    "slideshow": {
     "slide_type": "subslide"
    }
   },
   "outputs": [],
   "source": [
    "my_list = MyLinkedList(\"I am root\")\n",
    "\n",
    "runtimes = []\n",
    "for i in range(10000):\n",
    "    t0 = time()\n",
    "    for k in range(10):\n",
    "        my_list.append(\"new element\")\n",
    "    t1 = time()\n",
    "    runtimes.append(t1 - t0)"
   ]
  },
  {
   "cell_type": "code",
   "execution_count": 52,
   "metadata": {
    "slideshow": {
     "slide_type": "subslide"
    }
   },
   "outputs": [
    {
     "data": {
      "text/plain": [
       "[<matplotlib.lines.Line2D at 0x7f67df2ebb50>]"
      ]
     },
     "execution_count": 52,
     "metadata": {},
     "output_type": "execute_result"
    },
    {
     "data": {
      "image/png": "[encoded data removed]",
      "text/plain": [
       "<Figure size 1152x720 with 1 Axes>"
      ]
     },
     "metadata": {
      "needs_background": "light"
     },
     "output_type": "display_data"
    }
   ],
   "source": [
    "plt.figure(figsize = (16,10))\n",
    "plt.plot(runtimes)"
   ]
  },
  {
   "cell_type": "markdown",
   "metadata": {
    "slideshow": {
     "slide_type": "slide"
    }
   },
   "source": [
    "Okay, final example: assume you want a *dictionary* (and you do, quite often!). That is, have $N$ strings mapped to some interesting data, to have the ability to find them quickly.\n",
    "\n",
    "How to implement it?\n",
    "- naive way: just check all $N$ elements to find *the* one.\n",
    "- a better way... ?"
   ]
  },
  {
   "cell_type": "markdown",
   "metadata": {
    "slideshow": {
     "slide_type": "fragment"
    }
   },
   "source": [
    "of course, sort them alphabetically! So, spend $O(N\\log N)$-ish time once, and then enjoy... like $O(\\log N)$ access time, if you split it in halves every time! \n",
    "\n",
    "No, seriously: for $N=$ 1,000,000 words, naive find checks, well, 1,000,000 elements. While the smarter implementation -- no more than:"
   ]
  },
  {
   "cell_type": "code",
   "execution_count": 53,
   "metadata": {
    "slideshow": {
     "slide_type": "fragment"
    }
   },
   "outputs": [
    {
     "data": {
      "text/plain": [
       "20"
      ]
     },
     "execution_count": 53,
     "metadata": {},
     "output_type": "execute_result"
    }
   ],
   "source": [
    "round(log2(1000000))"
   ]
  },
  {
   "cell_type": "markdown",
   "metadata": {
    "slideshow": {
     "slide_type": "subslide"
    }
   },
   "source": [
    "Let's see, though, what the Python's built-in `dictionary` class (see the [docs](https://docs.python.org/3/tutorial/datastructures.html#dictionaries) for more info) has to offer:"
   ]
  },
  {
   "cell_type": "code",
   "execution_count": 54,
   "metadata": {
    "slideshow": {
     "slide_type": "subslide"
    }
   },
   "outputs": [],
   "source": [
    "D = dict()\n",
    "runtimes = []\n",
    "\n",
    "for i in range(10000):\n",
    "    t0 = time()\n",
    "    for k in range(10):\n",
    "        D[\"precious key {}/{}\".format(i,k)] = \"i={}, k={}\".format(i,k)\n",
    "    t1 = time()\n",
    "    runtimes.append(t1-t0)"
   ]
  },
  {
   "cell_type": "code",
   "execution_count": 55,
   "metadata": {
    "slideshow": {
     "slide_type": "fragment"
    }
   },
   "outputs": [
    {
     "data": {
      "text/plain": [
       "100000"
      ]
     },
     "execution_count": 55,
     "metadata": {},
     "output_type": "execute_result"
    }
   ],
   "source": [
    "len(D)"
   ]
  },
  {
   "cell_type": "code",
   "execution_count": 56,
   "metadata": {
    "slideshow": {
     "slide_type": "fragment"
    }
   },
   "outputs": [
    {
     "data": {
      "text/plain": [
       "'i=5700, k=8'"
      ]
     },
     "execution_count": 56,
     "metadata": {},
     "output_type": "execute_result"
    }
   ],
   "source": [
    "# as a \"bonus\" (actually, the whole point of it), we have:\n",
    "\n",
    "D[\"precious key 5700/8\"]"
   ]
  },
  {
   "cell_type": "code",
   "execution_count": 57,
   "metadata": {
    "slideshow": {
     "slide_type": "subslide"
    }
   },
   "outputs": [
    {
     "data": {
      "text/plain": [
       "[<matplotlib.lines.Line2D at 0x7f67ddc36b10>]"
      ]
     },
     "execution_count": 57,
     "metadata": {},
     "output_type": "execute_result"
    },
    {
     "data": {
      "image/png": "[encoded data removed]",
      "text/plain": [
       "<Figure size 1152x720 with 1 Axes>"
      ]
     },
     "metadata": {
      "needs_background": "light"
     },
     "output_type": "display_data"
    }
   ],
   "source": [
    "plt.figure(figsize = (16,10))\n",
    "plt.plot(runtimes)"
   ]
  },
  {
   "cell_type": "markdown",
   "metadata": {
    "slideshow": {
     "slide_type": "fragment"
    }
   },
   "source": [
    "Wait, whaaat?! Why?! What's the... ?!\n",
    "\n",
    "Indeed, it is constant-time access. $O(1)$. Kinda instantaneous."
   ]
  },
  {
   "cell_type": "markdown",
   "metadata": {
    "slideshow": {
     "slide_type": "subslide"
    }
   },
   "source": [
    "And the answer is, of course, special CS black magic. Google \"hash tables\" if interested. Note, though, it is not a beginner material. You might be better served by a textbook. \n",
    "\n",
    "**PROTIP:** To use it, you don't really need to understand deeply what's going on under the hood."
   ]
  },
  {
   "cell_type": "markdown",
   "metadata": {
    "slideshow": {
     "slide_type": "subslide"
    }
   },
   "source": [
    "The idea is: there are **a lot** of cool data structures out there. You might not need to know all, but remember google stuff if you are implementing something. Some examples include:\n",
    "- linked lists, [queues](https://en.wikipedia.org/wiki/Queue_(abstract_data_type)) (`push`/`pop` operations a-la stack; $O(1)$ `insert`/`delete` operations), [deques](https://en.wikipedia.org/wiki/Double-ended_queue) (when you can slap an element in the beginning as well), etc.\n",
    "- the all mighty dictionaries / [hash tables](https://en.wikipedia.org/wiki/Hash_table) (fast access/search times);\n",
    "- the swiss army knife of CS, [binary search trees](https://en.wikipedia.org/wiki/Binary_search_tree) (well, do the binary search quickly :) ) and [heaps](https://en.wikipedia.org/wiki/Heap_(data_structure)) (find minimum in constant time. Guess what is a heap sort algo?)\n",
    "- [union find](https://en.wikipedia.org/wiki/Disjoint-set_data_structure) -- keep track of a set partitioned into subsets. Very fast operations to: `union` two subsets and `find` if any two given elements are in the same subset.\n",
    "- and quite some more...\n",
    "\n",
    "There is some system here, like there are key topics: lists, hashing, trees, etc. Again, pick up a textbook if interested!"
   ]
  },
  {
   "cell_type": "markdown",
   "metadata": {
    "slideshow": {
     "slide_type": "slide"
    }
   },
   "source": [
    "# Take-aways\n",
    "- (Some) algorithms are cool\n",
    "- They can (and should) be analyzed in a systematic, scientific way\n",
    "- They are quite often characterized by runtime, space requirements, and correctness (obviously).\n",
    "- Another important characteristic, which is slightly outside the scope if this talk, is whether it can use several parallel processes.\n",
    "- Asymptotic runtime: $O(\\cdot)$ (and Co.) notations describe how does the runtime grow as the problem size increases. \n",
    "- Yes, usually that's a big deal\n",
    "- Sometimes we discuss best-case, worst-case, and average performance.\n",
    "- Cool algorithms are numerous, and it is quite possible that there is one for your (arbitrary) problem at hand.\n",
    "- Standard libraries are your friends (`numpy`, `sklearn`, etc. -- if we talk Python)\n",
    "- If you are into *designing* (or understanding) algorithms, you'll need to get familiar with basic data structures. A good data structure is a game-changer. But this is a whole separate topic... Just make sure you know there is \"dictionary\"/hash table and binary search tree / heap out there (not necessarily how it works -- just what it does)."
   ]
  },
  {
   "cell_type": "markdown",
   "metadata": {
    "slideshow": {
     "slide_type": "slide"
    }
   },
   "source": [
    "# The main part of the session: further reading\n",
    "- [GeeksForGeeks](https://www.geeksforgeeks.org/merge-sort/), Wikipedia, etc. are quite good, sometimes.\n",
    "- Docs for specific libraries (e.g., see sorting in [numpy docs](https://numpy.org/doc/stable/reference/generated/numpy.sort.html))\n",
    "- There are some good \"light\" introductory textbooks:\n",
    "    + Skiena \"Algorithm Design Manual\"\n",
    "    + Kleinberg and Tardos, \"Algorithm Design\" (I thank Dr. Dean for recommendation)\n",
    "- If you feel the need to practice, there are some good online courses out there. For example, Coursera:\n",
    "    + [Analysis of Algorithms](https://www.coursera.org/learn/analysis-of-algorithms) from Princeton (by Dr. Sedgewick) -- some practice in Java.\n",
    "    + [Algorithms specialization](https://www.coursera.org/specializations/algorithms) from Stanford -- this one might be math-heavy and more on the theoretical side.\n",
    "    + there are more -- google, check reviews, try several, pick the one that you like.\n",
    "    + might be a good idea to start one, go through the intro (but not necessarily finish).\n",
    "- If you feel like watching some videos, I might recommend the MiT OCW  [6.006 \"Intro to Algorithms\"](https://ocw.mit.edu/courses/electrical-engineering-and-computer-science/6-006-introduction-to-algorithms-fall-2011/) course\n",
    "- there are some more classic CS textbooks, which I would **not** recommend as an intro (you can google yourself as needed -- e.g., CLRS or Sedgewick's \"Algorithms\" books). That would be a little too dense for starters.\n",
    "- **the ultimate thing:** TAOCP (just google \"is TAOCP worth reading\" or check an [HN question](https://news.ycombinator.com/item?id=10897460). It seems to be kind of popular discussion topic among CS people :) )"
   ]
  }
 ],
 "metadata": {
  "celltoolbar": "Slideshow",
  "kernelspec": {
   "display_name": "Python 3",
   "language": "python",
   "name": "python3"
  },
  "language_info": {
   "codemirror_mode": {
    "name": "ipython",
    "version": 3
   },
   "file_extension": ".py",
   "mimetype": "text/x-python",
   "name": "python",
   "nbconvert_exporter": "python",
   "pygments_lexer": "ipython3",
   "version": "3.7.6"
  },
  "latex_envs": {
   "LaTeX_envs_menu_present": true,
   "autoclose": false,
   "autocomplete": true,
   "bibliofile": "biblio.bib",
   "cite_by": "apalike",
   "current_citInitial": 1,
   "eqLabelWithNumbers": true,
   "eqNumInitial": 1,
   "hotkeys": {
    "equation": "Ctrl-E",
    "itemize": "Ctrl-I"
   },
   "labels_anchors": false,
   "latex_user_defs": false,
   "report_style_numbering": false,
   "user_envs_cfg": false
  },
  "toc": {
   "base_numbering": 1,
   "nav_menu": {
    "height": "110px",
    "width": "437px"
   },
   "number_sections": true,
   "sideBar": true,
   "skip_h1_title": false,
   "title_cell": "Table of Contents",
   "title_sidebar": "Contents",
   "toc_cell": false,
   "toc_position": {},
   "toc_section_display": true,
   "toc_window_display": false
  }
 },
 "nbformat": 4,
 "nbformat_minor": 4
}
